{
 "cells": [
  {
   "cell_type": "code",
   "execution_count": 12,
   "metadata": {},
   "outputs": [],
   "source": [
    "import pandas as pd\n",
    "import numpy as np\n",
    "import seaborn as sns\n",
    "import matplotlib.pyplot as plt\n",
    "from sklearn.linear_model import LinearRegression"
   ]
  },
  {
   "cell_type": "code",
   "execution_count": 2,
   "metadata": {},
   "outputs": [],
   "source": [
    "df=pd.read_excel('/Users/zhangyuexiang/Downloads/PredictorData.xls', sheet_name='Quarterly')"
   ]
  },
  {
   "cell_type": "code",
   "execution_count": 3,
   "metadata": {},
   "outputs": [
    {
     "data": {
      "text/html": [
       "<div>\n",
       "<style scoped>\n",
       "    .dataframe tbody tr th:only-of-type {\n",
       "        vertical-align: middle;\n",
       "    }\n",
       "\n",
       "    .dataframe tbody tr th {\n",
       "        vertical-align: top;\n",
       "    }\n",
       "\n",
       "    .dataframe thead th {\n",
       "        text-align: right;\n",
       "    }\n",
       "</style>\n",
       "<table border=\"1\" class=\"dataframe\">\n",
       "  <thead>\n",
       "    <tr style=\"text-align: right;\">\n",
       "      <th></th>\n",
       "      <th>yyyyq</th>\n",
       "      <th>Index</th>\n",
       "      <th>D3</th>\n",
       "      <th>D12</th>\n",
       "      <th>E3</th>\n",
       "      <th>E12</th>\n",
       "      <th>b/m</th>\n",
       "      <th>tbl</th>\n",
       "      <th>AAA</th>\n",
       "      <th>BAA</th>\n",
       "      <th>...</th>\n",
       "      <th>ntis</th>\n",
       "      <th>Rfree</th>\n",
       "      <th>infl</th>\n",
       "      <th>ltr</th>\n",
       "      <th>corpr</th>\n",
       "      <th>svar</th>\n",
       "      <th>csp</th>\n",
       "      <th>ik</th>\n",
       "      <th>CRSP_SPvw</th>\n",
       "      <th>CRSP_SPvwx</th>\n",
       "    </tr>\n",
       "  </thead>\n",
       "  <tbody>\n",
       "    <tr>\n",
       "      <th>0</th>\n",
       "      <td>18711</td>\n",
       "      <td>4.61</td>\n",
       "      <td>NaN</td>\n",
       "      <td>0.26</td>\n",
       "      <td>NaN</td>\n",
       "      <td>0.4000</td>\n",
       "      <td>NaN</td>\n",
       "      <td>NaN</td>\n",
       "      <td>NaN</td>\n",
       "      <td>NaN</td>\n",
       "      <td>...</td>\n",
       "      <td>NaN</td>\n",
       "      <td>0.013712</td>\n",
       "      <td>NaN</td>\n",
       "      <td>NaN</td>\n",
       "      <td>NaN</td>\n",
       "      <td>NaN</td>\n",
       "      <td>NaN</td>\n",
       "      <td>NaN</td>\n",
       "      <td>NaN</td>\n",
       "      <td>NaN</td>\n",
       "    </tr>\n",
       "    <tr>\n",
       "      <th>1</th>\n",
       "      <td>18712</td>\n",
       "      <td>4.82</td>\n",
       "      <td>NaN</td>\n",
       "      <td>0.26</td>\n",
       "      <td>NaN</td>\n",
       "      <td>0.4000</td>\n",
       "      <td>NaN</td>\n",
       "      <td>NaN</td>\n",
       "      <td>NaN</td>\n",
       "      <td>NaN</td>\n",
       "      <td>...</td>\n",
       "      <td>NaN</td>\n",
       "      <td>0.011691</td>\n",
       "      <td>NaN</td>\n",
       "      <td>NaN</td>\n",
       "      <td>NaN</td>\n",
       "      <td>NaN</td>\n",
       "      <td>NaN</td>\n",
       "      <td>NaN</td>\n",
       "      <td>NaN</td>\n",
       "      <td>NaN</td>\n",
       "    </tr>\n",
       "    <tr>\n",
       "      <th>2</th>\n",
       "      <td>18713</td>\n",
       "      <td>4.84</td>\n",
       "      <td>NaN</td>\n",
       "      <td>0.26</td>\n",
       "      <td>NaN</td>\n",
       "      <td>0.4000</td>\n",
       "      <td>NaN</td>\n",
       "      <td>NaN</td>\n",
       "      <td>NaN</td>\n",
       "      <td>NaN</td>\n",
       "      <td>...</td>\n",
       "      <td>NaN</td>\n",
       "      <td>0.011500</td>\n",
       "      <td>NaN</td>\n",
       "      <td>NaN</td>\n",
       "      <td>NaN</td>\n",
       "      <td>NaN</td>\n",
       "      <td>NaN</td>\n",
       "      <td>NaN</td>\n",
       "      <td>NaN</td>\n",
       "      <td>NaN</td>\n",
       "    </tr>\n",
       "    <tr>\n",
       "      <th>3</th>\n",
       "      <td>18714</td>\n",
       "      <td>4.74</td>\n",
       "      <td>NaN</td>\n",
       "      <td>0.26</td>\n",
       "      <td>NaN</td>\n",
       "      <td>0.4000</td>\n",
       "      <td>NaN</td>\n",
       "      <td>NaN</td>\n",
       "      <td>NaN</td>\n",
       "      <td>NaN</td>\n",
       "      <td>...</td>\n",
       "      <td>NaN</td>\n",
       "      <td>0.020433</td>\n",
       "      <td>NaN</td>\n",
       "      <td>NaN</td>\n",
       "      <td>NaN</td>\n",
       "      <td>NaN</td>\n",
       "      <td>NaN</td>\n",
       "      <td>NaN</td>\n",
       "      <td>NaN</td>\n",
       "      <td>NaN</td>\n",
       "    </tr>\n",
       "    <tr>\n",
       "      <th>4</th>\n",
       "      <td>18721</td>\n",
       "      <td>5.04</td>\n",
       "      <td>NaN</td>\n",
       "      <td>0.27</td>\n",
       "      <td>NaN</td>\n",
       "      <td>0.4075</td>\n",
       "      <td>NaN</td>\n",
       "      <td>NaN</td>\n",
       "      <td>NaN</td>\n",
       "      <td>NaN</td>\n",
       "      <td>...</td>\n",
       "      <td>NaN</td>\n",
       "      <td>0.016935</td>\n",
       "      <td>NaN</td>\n",
       "      <td>NaN</td>\n",
       "      <td>NaN</td>\n",
       "      <td>NaN</td>\n",
       "      <td>NaN</td>\n",
       "      <td>NaN</td>\n",
       "      <td>NaN</td>\n",
       "      <td>NaN</td>\n",
       "    </tr>\n",
       "  </tbody>\n",
       "</table>\n",
       "<p>5 rows × 22 columns</p>\n",
       "</div>"
      ],
      "text/plain": [
       "   yyyyq  Index  D3   D12  E3     E12  b/m  tbl  AAA  BAA  ...  ntis  \\\n",
       "0  18711   4.61 NaN  0.26 NaN  0.4000  NaN  NaN  NaN  NaN  ...   NaN   \n",
       "1  18712   4.82 NaN  0.26 NaN  0.4000  NaN  NaN  NaN  NaN  ...   NaN   \n",
       "2  18713   4.84 NaN  0.26 NaN  0.4000  NaN  NaN  NaN  NaN  ...   NaN   \n",
       "3  18714   4.74 NaN  0.26 NaN  0.4000  NaN  NaN  NaN  NaN  ...   NaN   \n",
       "4  18721   5.04 NaN  0.27 NaN  0.4075  NaN  NaN  NaN  NaN  ...   NaN   \n",
       "\n",
       "      Rfree  infl  ltr  corpr  svar  csp  ik  CRSP_SPvw  CRSP_SPvwx  \n",
       "0  0.013712   NaN  NaN    NaN   NaN  NaN NaN        NaN         NaN  \n",
       "1  0.011691   NaN  NaN    NaN   NaN  NaN NaN        NaN         NaN  \n",
       "2  0.011500   NaN  NaN    NaN   NaN  NaN NaN        NaN         NaN  \n",
       "3  0.020433   NaN  NaN    NaN   NaN  NaN NaN        NaN         NaN  \n",
       "4  0.016935   NaN  NaN    NaN   NaN  NaN NaN        NaN         NaN  \n",
       "\n",
       "[5 rows x 22 columns]"
      ]
     },
     "execution_count": 3,
     "metadata": {},
     "output_type": "execute_result"
    }
   ],
   "source": [
    "df.head()"
   ]
  },
  {
   "cell_type": "code",
   "execution_count": 4,
   "metadata": {},
   "outputs": [
    {
     "data": {
      "text/plain": [
       "Index(['yyyyq', 'Index', 'D3', 'D12', 'E3', 'E12', 'b/m', 'tbl', 'AAA', 'BAA',\n",
       "       'lty', 'cay', 'ntis', 'Rfree', 'infl', 'ltr', 'corpr', 'svar', 'csp',\n",
       "       'ik', 'CRSP_SPvw', 'CRSP_SPvwx'],\n",
       "      dtype='object')"
      ]
     },
     "execution_count": 4,
     "metadata": {},
     "output_type": "execute_result"
    }
   ],
   "source": [
    "df.columns"
   ]
  },
  {
   "cell_type": "code",
   "execution_count": 5,
   "metadata": {},
   "outputs": [],
   "source": [
    "df['premium']=df['E3']/df['Index']-df['Rfree']"
   ]
  },
  {
   "cell_type": "markdown",
   "metadata": {},
   "source": [
    "### Statistics"
   ]
  },
  {
   "cell_type": "code",
   "execution_count": 6,
   "metadata": {},
   "outputs": [
    {
     "data": {
      "text/html": [
       "<div>\n",
       "<style scoped>\n",
       "    .dataframe tbody tr th:only-of-type {\n",
       "        vertical-align: middle;\n",
       "    }\n",
       "\n",
       "    .dataframe tbody tr th {\n",
       "        vertical-align: top;\n",
       "    }\n",
       "\n",
       "    .dataframe thead th {\n",
       "        text-align: right;\n",
       "    }\n",
       "</style>\n",
       "<table border=\"1\" class=\"dataframe\">\n",
       "  <thead>\n",
       "    <tr style=\"text-align: right;\">\n",
       "      <th></th>\n",
       "      <th>b/m</th>\n",
       "      <th>tbl</th>\n",
       "      <th>ntis</th>\n",
       "      <th>lty</th>\n",
       "      <th>ltr</th>\n",
       "      <th>premium</th>\n",
       "    </tr>\n",
       "  </thead>\n",
       "  <tbody>\n",
       "    <tr>\n",
       "      <th>count</th>\n",
       "      <td>340.000000</td>\n",
       "      <td>344.000000</td>\n",
       "      <td>317.000000</td>\n",
       "      <td>348.000000</td>\n",
       "      <td>320.000000</td>\n",
       "      <td>284.000000</td>\n",
       "    </tr>\n",
       "    <tr>\n",
       "      <th>mean</th>\n",
       "      <td>0.604855</td>\n",
       "      <td>0.037763</td>\n",
       "      <td>0.021306</td>\n",
       "      <td>0.052823</td>\n",
       "      <td>0.014270</td>\n",
       "      <td>0.009237</td>\n",
       "    </tr>\n",
       "    <tr>\n",
       "      <th>std</th>\n",
       "      <td>0.258643</td>\n",
       "      <td>0.029988</td>\n",
       "      <td>0.023320</td>\n",
       "      <td>0.027782</td>\n",
       "      <td>0.043094</td>\n",
       "      <td>0.010307</td>\n",
       "    </tr>\n",
       "    <tr>\n",
       "      <th>min</th>\n",
       "      <td>0.125209</td>\n",
       "      <td>0.000200</td>\n",
       "      <td>-0.034357</td>\n",
       "      <td>0.019100</td>\n",
       "      <td>-0.145143</td>\n",
       "      <td>-0.008555</td>\n",
       "    </tr>\n",
       "    <tr>\n",
       "      <th>25%</th>\n",
       "      <td>0.453203</td>\n",
       "      <td>0.012775</td>\n",
       "      <td>0.010117</td>\n",
       "      <td>0.030250</td>\n",
       "      <td>-0.006590</td>\n",
       "      <td>0.001583</td>\n",
       "    </tr>\n",
       "    <tr>\n",
       "      <th>50%</th>\n",
       "      <td>0.582208</td>\n",
       "      <td>0.034000</td>\n",
       "      <td>0.019612</td>\n",
       "      <td>0.043950</td>\n",
       "      <td>0.009562</td>\n",
       "      <td>0.006628</td>\n",
       "    </tr>\n",
       "    <tr>\n",
       "      <th>75%</th>\n",
       "      <td>0.762780</td>\n",
       "      <td>0.053875</td>\n",
       "      <td>0.028763</td>\n",
       "      <td>0.070300</td>\n",
       "      <td>0.026726</td>\n",
       "      <td>0.016306</td>\n",
       "    </tr>\n",
       "    <tr>\n",
       "      <th>max</th>\n",
       "      <td>2.028478</td>\n",
       "      <td>0.154900</td>\n",
       "      <td>0.163350</td>\n",
       "      <td>0.148200</td>\n",
       "      <td>0.243682</td>\n",
       "      <td>0.041888</td>\n",
       "    </tr>\n",
       "  </tbody>\n",
       "</table>\n",
       "</div>"
      ],
      "text/plain": [
       "              b/m         tbl        ntis         lty         ltr     premium\n",
       "count  340.000000  344.000000  317.000000  348.000000  320.000000  284.000000\n",
       "mean     0.604855    0.037763    0.021306    0.052823    0.014270    0.009237\n",
       "std      0.258643    0.029988    0.023320    0.027782    0.043094    0.010307\n",
       "min      0.125209    0.000200   -0.034357    0.019100   -0.145143   -0.008555\n",
       "25%      0.453203    0.012775    0.010117    0.030250   -0.006590    0.001583\n",
       "50%      0.582208    0.034000    0.019612    0.043950    0.009562    0.006628\n",
       "75%      0.762780    0.053875    0.028763    0.070300    0.026726    0.016306\n",
       "max      2.028478    0.154900    0.163350    0.148200    0.243682    0.041888"
      ]
     },
     "execution_count": 6,
     "metadata": {},
     "output_type": "execute_result"
    }
   ],
   "source": [
    "df1=df.describe()[['b/m', 'tbl', 'ntis', 'lty', 'ltr', 'premium']]\n",
    "df1"
   ]
  },
  {
   "cell_type": "code",
   "execution_count": 7,
   "metadata": {},
   "outputs": [
    {
     "name": "stdout",
     "output_type": "stream",
     "text": [
      "<class 'pandas.core.frame.DataFrame'>\n",
      "RangeIndex: 540 entries, 0 to 539\n",
      "Data columns (total 23 columns):\n",
      "yyyyq         540 non-null int64\n",
      "Index         540 non-null float64\n",
      "D3            72 non-null float64\n",
      "D12           540 non-null float64\n",
      "E3            284 non-null float64\n",
      "E12           540 non-null float64\n",
      "b/m           340 non-null float64\n",
      "tbl           344 non-null float64\n",
      "AAA           348 non-null float64\n",
      "BAA           348 non-null float64\n",
      "lty           348 non-null float64\n",
      "cay           217 non-null float64\n",
      "ntis          317 non-null float64\n",
      "Rfree         540 non-null float64\n",
      "infl          371 non-null float64\n",
      "ltr           320 non-null float64\n",
      "corpr         320 non-null float64\n",
      "svar          484 non-null float64\n",
      "csp           263 non-null float64\n",
      "ik            236 non-null float64\n",
      "CRSP_SPvw     320 non-null float64\n",
      "CRSP_SPvwx    320 non-null float64\n",
      "premium       284 non-null float64\n",
      "dtypes: float64(22), int64(1)\n",
      "memory usage: 97.1 KB\n"
     ]
    }
   ],
   "source": [
    "df.info()"
   ]
  },
  {
   "cell_type": "code",
   "execution_count": 8,
   "metadata": {},
   "outputs": [
    {
     "data": {
      "text/plain": [
       "b/m        200\n",
       "tbl        196\n",
       "ntis       223\n",
       "lty        192\n",
       "ltr        220\n",
       "premium    256\n",
       "dtype: int64"
      ]
     },
     "execution_count": 8,
     "metadata": {},
     "output_type": "execute_result"
    }
   ],
   "source": [
    "missing=df[['b/m', 'tbl', 'ntis', 'lty', 'ltr', 'premium']].isna()\n",
    "num_missing=missing.sum()\n",
    "num_missing"
   ]
  },
  {
   "cell_type": "code",
   "execution_count": 9,
   "metadata": {},
   "outputs": [
    {
     "data": {
      "text/plain": [
       "b/m        0.370370\n",
       "tbl        0.362963\n",
       "ntis       0.412963\n",
       "lty        0.355556\n",
       "ltr        0.407407\n",
       "premium    0.474074\n",
       "dtype: float64"
      ]
     },
     "execution_count": 9,
     "metadata": {},
     "output_type": "execute_result"
    }
   ],
   "source": [
    "num_missing/len(df)"
   ]
  },
  {
   "cell_type": "markdown",
   "metadata": {},
   "source": [
    "### Visualization"
   ]
  },
  {
   "cell_type": "code",
   "execution_count": 10,
   "metadata": {
    "scrolled": false
   },
   "outputs": [
    {
     "data": {
      "image/png": "[encoded data removed]",
      "text/plain": [
       "<Figure size 1152x648 with 1 Axes>"
      ]
     },
     "metadata": {
      "needs_background": "light"
     },
     "output_type": "display_data"
    },
    {
     "data": {
      "image/png": "[encoded data removed]",
      "text/plain": [
       "<Figure size 1152x648 with 1 Axes>"
      ]
     },
     "metadata": {
      "needs_background": "light"
     },
     "output_type": "display_data"
    },
    {
     "data": {
      "image/png": "[encoded data removed]",
      "text/plain": [
       "<Figure size 1152x648 with 1 Axes>"
      ]
     },
     "metadata": {
      "needs_background": "light"
     },
     "output_type": "display_data"
    },
    {
     "data": {
      "image/png": "[encoded data removed]",
      "text/plain": [
       "<Figure size 1152x648 with 1 Axes>"
      ]
     },
     "metadata": {
      "needs_background": "light"
     },
     "output_type": "display_data"
    },
    {
     "data": {
      "image/png": "[encoded data removed]",
      "text/plain": [
       "<Figure size 1152x648 with 1 Axes>"
      ]
     },
     "metadata": {
      "needs_background": "light"
     },
     "output_type": "display_data"
    },
    {
     "data": {
      "image/png": "[encoded data removed]",
      "text/plain": [
       "<Figure size 1152x648 with 1 Axes>"
      ]
     },
     "metadata": {
      "needs_background": "light"
     },
     "output_type": "display_data"
    }
   ],
   "source": [
    "colors=['blue', 'red', 'green', 'black', 'purple', 'orange']\n",
    "for i in range(0, 6):\n",
    "    fig=plt.figure(figsize=(16,9))\n",
    "    sns.scatterplot(x=df['yyyyq'], y=df[df1.columns[i]], color=colors[i])"
   ]
  },
  {
   "cell_type": "markdown",
   "metadata": {},
   "source": [
    "### Correlation"
   ]
  },
  {
   "cell_type": "code",
   "execution_count": 11,
   "metadata": {},
   "outputs": [
    {
     "data": {
      "text/html": [
       "<div>\n",
       "<style scoped>\n",
       "    .dataframe tbody tr th:only-of-type {\n",
       "        vertical-align: middle;\n",
       "    }\n",
       "\n",
       "    .dataframe tbody tr th {\n",
       "        vertical-align: top;\n",
       "    }\n",
       "\n",
       "    .dataframe thead th {\n",
       "        text-align: right;\n",
       "    }\n",
       "</style>\n",
       "<table border=\"1\" class=\"dataframe\">\n",
       "  <thead>\n",
       "    <tr style=\"text-align: right;\">\n",
       "      <th></th>\n",
       "      <th>b/m</th>\n",
       "      <th>tbl</th>\n",
       "      <th>ntis</th>\n",
       "      <th>lty</th>\n",
       "      <th>ltr</th>\n",
       "      <th>premium</th>\n",
       "    </tr>\n",
       "  </thead>\n",
       "  <tbody>\n",
       "    <tr>\n",
       "      <th>b/m</th>\n",
       "      <td>1.000000</td>\n",
       "      <td>0.079384</td>\n",
       "      <td>-0.186007</td>\n",
       "      <td>0.072426</td>\n",
       "      <td>-0.022498</td>\n",
       "      <td>0.465306</td>\n",
       "    </tr>\n",
       "    <tr>\n",
       "      <th>tbl</th>\n",
       "      <td>0.079384</td>\n",
       "      <td>1.000000</td>\n",
       "      <td>-0.167548</td>\n",
       "      <td>0.906322</td>\n",
       "      <td>0.028249</td>\n",
       "      <td>-0.646410</td>\n",
       "    </tr>\n",
       "    <tr>\n",
       "      <th>ntis</th>\n",
       "      <td>-0.186007</td>\n",
       "      <td>-0.167548</td>\n",
       "      <td>1.000000</td>\n",
       "      <td>-0.262756</td>\n",
       "      <td>-0.127159</td>\n",
       "      <td>0.187075</td>\n",
       "    </tr>\n",
       "    <tr>\n",
       "      <th>lty</th>\n",
       "      <td>0.072426</td>\n",
       "      <td>0.906322</td>\n",
       "      <td>-0.262756</td>\n",
       "      <td>1.000000</td>\n",
       "      <td>0.106518</td>\n",
       "      <td>-0.660960</td>\n",
       "    </tr>\n",
       "    <tr>\n",
       "      <th>ltr</th>\n",
       "      <td>-0.022498</td>\n",
       "      <td>0.028249</td>\n",
       "      <td>-0.127159</td>\n",
       "      <td>0.106518</td>\n",
       "      <td>1.000000</td>\n",
       "      <td>-0.124022</td>\n",
       "    </tr>\n",
       "    <tr>\n",
       "      <th>premium</th>\n",
       "      <td>0.465306</td>\n",
       "      <td>-0.646410</td>\n",
       "      <td>0.187075</td>\n",
       "      <td>-0.660960</td>\n",
       "      <td>-0.124022</td>\n",
       "      <td>1.000000</td>\n",
       "    </tr>\n",
       "  </tbody>\n",
       "</table>\n",
       "</div>"
      ],
      "text/plain": [
       "              b/m       tbl      ntis       lty       ltr   premium\n",
       "b/m      1.000000  0.079384 -0.186007  0.072426 -0.022498  0.465306\n",
       "tbl      0.079384  1.000000 -0.167548  0.906322  0.028249 -0.646410\n",
       "ntis    -0.186007 -0.167548  1.000000 -0.262756 -0.127159  0.187075\n",
       "lty      0.072426  0.906322 -0.262756  1.000000  0.106518 -0.660960\n",
       "ltr     -0.022498  0.028249 -0.127159  0.106518  1.000000 -0.124022\n",
       "premium  0.465306 -0.646410  0.187075 -0.660960 -0.124022  1.000000"
      ]
     },
     "execution_count": 11,
     "metadata": {},
     "output_type": "execute_result"
    }
   ],
   "source": [
    "df[['b/m', 'tbl', 'ntis', 'lty', 'ltr', 'premium']].corr()"
   ]
  },
  {
   "cell_type": "markdown",
   "metadata": {},
   "source": [
    "### Single Linear Model"
   ]
  },
  {
   "cell_type": "code",
   "execution_count": 14,
   "metadata": {},
   "outputs": [
    {
     "data": {
      "text/html": [
       "<div>\n",
       "<style scoped>\n",
       "    .dataframe tbody tr th:only-of-type {\n",
       "        vertical-align: middle;\n",
       "    }\n",
       "\n",
       "    .dataframe tbody tr th {\n",
       "        vertical-align: top;\n",
       "    }\n",
       "\n",
       "    .dataframe thead th {\n",
       "        text-align: right;\n",
       "    }\n",
       "</style>\n",
       "<table border=\"1\" class=\"dataframe\">\n",
       "  <thead>\n",
       "    <tr style=\"text-align: right;\">\n",
       "      <th></th>\n",
       "      <th>b/m</th>\n",
       "      <th>tbl</th>\n",
       "      <th>ntis</th>\n",
       "      <th>lty</th>\n",
       "      <th>ltr</th>\n",
       "      <th>premium</th>\n",
       "    </tr>\n",
       "  </thead>\n",
       "  <tbody>\n",
       "    <tr>\n",
       "      <th>0</th>\n",
       "      <td>NaN</td>\n",
       "      <td>NaN</td>\n",
       "      <td>NaN</td>\n",
       "      <td>NaN</td>\n",
       "      <td>NaN</td>\n",
       "      <td>NaN</td>\n",
       "    </tr>\n",
       "    <tr>\n",
       "      <th>1</th>\n",
       "      <td>NaN</td>\n",
       "      <td>NaN</td>\n",
       "      <td>NaN</td>\n",
       "      <td>NaN</td>\n",
       "      <td>NaN</td>\n",
       "      <td>NaN</td>\n",
       "    </tr>\n",
       "    <tr>\n",
       "      <th>2</th>\n",
       "      <td>NaN</td>\n",
       "      <td>NaN</td>\n",
       "      <td>NaN</td>\n",
       "      <td>NaN</td>\n",
       "      <td>NaN</td>\n",
       "      <td>NaN</td>\n",
       "    </tr>\n",
       "    <tr>\n",
       "      <th>3</th>\n",
       "      <td>NaN</td>\n",
       "      <td>NaN</td>\n",
       "      <td>NaN</td>\n",
       "      <td>NaN</td>\n",
       "      <td>NaN</td>\n",
       "      <td>NaN</td>\n",
       "    </tr>\n",
       "    <tr>\n",
       "      <th>4</th>\n",
       "      <td>NaN</td>\n",
       "      <td>NaN</td>\n",
       "      <td>NaN</td>\n",
       "      <td>NaN</td>\n",
       "      <td>NaN</td>\n",
       "      <td>NaN</td>\n",
       "    </tr>\n",
       "  </tbody>\n",
       "</table>\n",
       "</div>"
      ],
      "text/plain": [
       "   b/m  tbl  ntis  lty  ltr  premium\n",
       "0  NaN  NaN   NaN  NaN  NaN      NaN\n",
       "1  NaN  NaN   NaN  NaN  NaN      NaN\n",
       "2  NaN  NaN   NaN  NaN  NaN      NaN\n",
       "3  NaN  NaN   NaN  NaN  NaN      NaN\n",
       "4  NaN  NaN   NaN  NaN  NaN      NaN"
      ]
     },
     "execution_count": 14,
     "metadata": {},
     "output_type": "execute_result"
    }
   ],
   "source": [
    "df2=df[['b/m', 'tbl', 'ntis', 'lty', 'ltr', 'premium']]\n",
    "df2.head()"
   ]
  },
  {
   "cell_type": "code",
   "execution_count": 20,
   "metadata": {},
   "outputs": [
    {
     "data": {
      "text/plain": [
       "200"
      ]
     },
     "execution_count": 20,
     "metadata": {},
     "output_type": "execute_result"
    }
   ],
   "source": [
    "df2['b/m'].isna().sum()"
   ]
  },
  {
   "cell_type": "code",
   "execution_count": 21,
   "metadata": {},
   "outputs": [
    {
     "data": {
      "text/plain": [
       "256"
      ]
     },
     "execution_count": 21,
     "metadata": {},
     "output_type": "execute_result"
    }
   ],
   "source": [
    "df2['premium'].isna().sum()"
   ]
  },
  {
   "cell_type": "code",
   "execution_count": 52,
   "metadata": {},
   "outputs": [],
   "source": [
    "def checkna1(row):\n",
    "    if np.isnan(row['b/m']) == False and np.isnan(row['premium']) == False :\n",
    "        return True\n",
    "    else:\n",
    "        return False\n",
    "    \n",
    "def checkna2(row):\n",
    "    if np.isnan(row['tbl']) == False and np.isnan(row['premium']) == False :\n",
    "        return True\n",
    "    else:\n",
    "        return False\n",
    "    \n",
    "def checkna3(row):\n",
    "    if np.isnan(row['ntis']) == False and np.isnan(row['premium']) == False :\n",
    "        return True\n",
    "    else:\n",
    "        return False\n",
    "    \n",
    "def checkna4(row):\n",
    "    if np.isnan(row['lty']) == False and np.isnan(row['premium']) == False :\n",
    "        return True\n",
    "    else:\n",
    "        return False\n",
    "    \n",
    "def checkna5(row):\n",
    "    if np.isnan(row['ltr']) == False and np.isnan(row['premium']) == False :\n",
    "        return True\n",
    "    else:\n",
    "        return False"
   ]
  },
  {
   "cell_type": "code",
   "execution_count": 53,
   "metadata": {},
   "outputs": [
    {
     "name": "stderr",
     "output_type": "stream",
     "text": [
      "/Library/Frameworks/Python.framework/Versions/3.6/lib/python3.6/site-packages/ipykernel_launcher.py:1: SettingWithCopyWarning: \n",
      "A value is trying to be set on a copy of a slice from a DataFrame.\n",
      "Try using .loc[row_indexer,col_indexer] = value instead\n",
      "\n",
      "See the caveats in the documentation: http://pandas.pydata.org/pandas-docs/stable/indexing.html#indexing-view-versus-copy\n",
      "  \"\"\"Entry point for launching an IPython kernel.\n",
      "/Library/Frameworks/Python.framework/Versions/3.6/lib/python3.6/site-packages/ipykernel_launcher.py:2: SettingWithCopyWarning: \n",
      "A value is trying to be set on a copy of a slice from a DataFrame.\n",
      "Try using .loc[row_indexer,col_indexer] = value instead\n",
      "\n",
      "See the caveats in the documentation: http://pandas.pydata.org/pandas-docs/stable/indexing.html#indexing-view-versus-copy\n",
      "  \n",
      "/Library/Frameworks/Python.framework/Versions/3.6/lib/python3.6/site-packages/ipykernel_launcher.py:3: SettingWithCopyWarning: \n",
      "A value is trying to be set on a copy of a slice from a DataFrame.\n",
      "Try using .loc[row_indexer,col_indexer] = value instead\n",
      "\n",
      "See the caveats in the documentation: http://pandas.pydata.org/pandas-docs/stable/indexing.html#indexing-view-versus-copy\n",
      "  This is separate from the ipykernel package so we can avoid doing imports until\n",
      "/Library/Frameworks/Python.framework/Versions/3.6/lib/python3.6/site-packages/ipykernel_launcher.py:4: SettingWithCopyWarning: \n",
      "A value is trying to be set on a copy of a slice from a DataFrame.\n",
      "Try using .loc[row_indexer,col_indexer] = value instead\n",
      "\n",
      "See the caveats in the documentation: http://pandas.pydata.org/pandas-docs/stable/indexing.html#indexing-view-versus-copy\n",
      "  after removing the cwd from sys.path.\n",
      "/Library/Frameworks/Python.framework/Versions/3.6/lib/python3.6/site-packages/ipykernel_launcher.py:5: SettingWithCopyWarning: \n",
      "A value is trying to be set on a copy of a slice from a DataFrame.\n",
      "Try using .loc[row_indexer,col_indexer] = value instead\n",
      "\n",
      "See the caveats in the documentation: http://pandas.pydata.org/pandas-docs/stable/indexing.html#indexing-view-versus-copy\n",
      "  \"\"\"\n"
     ]
    }
   ],
   "source": [
    "df2['b/m+']=df2.apply(checkna1, axis=1)\n",
    "df2['tbl+']=df2.apply(checkna2, axis=1)\n",
    "df2['ntis+']=df2.apply(checkna3, axis=1)\n",
    "df2['lty+']=df2.apply(checkna4, axis=1)\n",
    "df2['ltr+']=df2.apply(checkna5, axis=1)"
   ]
  },
  {
   "cell_type": "code",
   "execution_count": 46,
   "metadata": {},
   "outputs": [],
   "source": [
    "df21=df2.loc[df2['b/m+']==True]\n",
    "reg1 = LinearRegression().fit(np.array(df21['b/m']).reshape(-1,1), df21['premium'])"
   ]
  },
  {
   "cell_type": "code",
   "execution_count": 48,
   "metadata": {},
   "outputs": [
    {
     "data": {
      "text/plain": [
       "array([0.01996619])"
      ]
     },
     "execution_count": 48,
     "metadata": {},
     "output_type": "execute_result"
    }
   ],
   "source": [
    "reg1.coef_"
   ]
  },
  {
   "cell_type": "code",
   "execution_count": 54,
   "metadata": {},
   "outputs": [],
   "source": [
    "df22=df2.loc[df2['tbl+']==True]\n",
    "reg2 = LinearRegression().fit(np.array(df22['tbl']).reshape(-1,1), df22['premium'])"
   ]
  },
  {
   "cell_type": "code",
   "execution_count": 55,
   "metadata": {},
   "outputs": [
    {
     "data": {
      "text/plain": [
       "array([-0.20971932])"
      ]
     },
     "execution_count": 55,
     "metadata": {},
     "output_type": "execute_result"
    }
   ],
   "source": [
    "reg2.coef_"
   ]
  },
  {
   "cell_type": "code",
   "execution_count": 56,
   "metadata": {},
   "outputs": [],
   "source": [
    "df23=df2.loc[df2['ntis+']==True]\n",
    "reg3 = LinearRegression().fit(np.array(df23['ntis']).reshape(-1,1), df23['premium'])"
   ]
  },
  {
   "cell_type": "code",
   "execution_count": 57,
   "metadata": {},
   "outputs": [
    {
     "data": {
      "text/plain": [
       "array([0.13120365])"
      ]
     },
     "execution_count": 57,
     "metadata": {},
     "output_type": "execute_result"
    }
   ],
   "source": [
    "reg3.coef_"
   ]
  },
  {
   "cell_type": "code",
   "execution_count": 59,
   "metadata": {},
   "outputs": [],
   "source": [
    "df24=df2.loc[df2['lty+']==True]\n",
    "reg4 = LinearRegression().fit(np.array(df24['lty']).reshape(-1,1), df24['premium'])"
   ]
  },
  {
   "cell_type": "code",
   "execution_count": 60,
   "metadata": {},
   "outputs": [
    {
     "data": {
      "text/plain": [
       "array([-0.2296179])"
      ]
     },
     "execution_count": 60,
     "metadata": {},
     "output_type": "execute_result"
    }
   ],
   "source": [
    "reg4.coef_"
   ]
  },
  {
   "cell_type": "code",
   "execution_count": 61,
   "metadata": {},
   "outputs": [],
   "source": [
    "df25=df2.loc[df2['ltr+']==True]\n",
    "reg5 = LinearRegression().fit(np.array(df25['ltr']).reshape(-1,1), df25['premium'])"
   ]
  },
  {
   "cell_type": "code",
   "execution_count": 62,
   "metadata": {},
   "outputs": [
    {
     "data": {
      "text/plain": [
       "array([-0.02854091])"
      ]
     },
     "execution_count": 62,
     "metadata": {},
     "output_type": "execute_result"
    }
   ],
   "source": [
    "reg5.coef_"
   ]
  },
  {
   "cell_type": "code",
   "execution_count": null,
   "metadata": {},
   "outputs": [],
   "source": []
  }
 ],
 "metadata": {
  "kernelspec": {
   "display_name": "Python 3",
   "language": "python",
   "name": "python3"
  },
  "language_info": {
   "codemirror_mode": {
    "name": "ipython",
    "version": 3
   },
   "file_extension": ".py",
   "mimetype": "text/x-python",
   "name": "python",
   "nbconvert_exporter": "python",
   "pygments_lexer": "ipython3",
   "version": "3.6.2"
  }
 },
 "nbformat": 4,
 "nbformat_minor": 4
}
