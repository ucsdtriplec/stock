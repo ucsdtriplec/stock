{
  "nbformat": 4,
  "nbformat_minor": 0,
  "metadata": {
    "colab": {
      "name": "joey-paper3.ipynb",
      "provenance": [],
      "collapsed_sections": [
        "k2isWZHHTU1_",
        "n5rzmLhCsICC"
      ]
    },
    "kernelspec": {
      "name": "python3",
      "display_name": "Python 3"
    }
  },
  "cells": [
    {
      "cell_type": "code",
      "metadata": {
        "id": "IaBpfyerMdTh"
      },
      "source": [
        "import pandas as pd\n",
        "import numpy as np\n",
        "import math\n",
        "import seaborn as sns\n",
        "import scipy.stats\n",
        "import matplotlib.pyplot as plt\n",
        "import scipy.stats\n",
        "\n",
        "file_dir = './drive/My Drive/Stock - Triple C/learning/'"
      ],
      "execution_count": 181,
      "outputs": []
    },
    {
      "cell_type": "code",
      "metadata": {
        "id": "U34BhHy4TUhN"
      },
      "source": [
        ""
      ],
      "execution_count": 112,
      "outputs": []
    },
    {
      "cell_type": "markdown",
      "metadata": {
        "id": "k2isWZHHTU1_"
      },
      "source": [
        "# 1.Loading data"
      ]
    },
    {
      "cell_type": "code",
      "metadata": {
        "id": "lIXF67FmSJYv",
        "outputId": "713151eb-7424-4f09-a5d3-dfdb6b293f6c",
        "colab": {
          "base_uri": "https://localhost:8080/",
          "height": 204
        }
      },
      "source": [
        "predictor_data = pd.read_csv(file_dir + 'data/PredictorData.csv')\n",
        "predictor_data.head()"
      ],
      "execution_count": 113,
      "outputs": [
        {
          "output_type": "execute_result",
          "data": {
            "text/html": [
              "<div>\n",
              "<style scoped>\n",
              "    .dataframe tbody tr th:only-of-type {\n",
              "        vertical-align: middle;\n",
              "    }\n",
              "\n",
              "    .dataframe tbody tr th {\n",
              "        vertical-align: top;\n",
              "    }\n",
              "\n",
              "    .dataframe thead th {\n",
              "        text-align: right;\n",
              "    }\n",
              "</style>\n",
              "<table border=\"1\" class=\"dataframe\">\n",
              "  <thead>\n",
              "    <tr style=\"text-align: right;\">\n",
              "      <th></th>\n",
              "      <th>yyyyq</th>\n",
              "      <th>Index</th>\n",
              "      <th>D3</th>\n",
              "      <th>D12</th>\n",
              "      <th>E3</th>\n",
              "      <th>E12</th>\n",
              "      <th>b/m</th>\n",
              "      <th>tbl</th>\n",
              "      <th>AAA</th>\n",
              "      <th>BAA</th>\n",
              "      <th>lty</th>\n",
              "      <th>cay</th>\n",
              "      <th>ntis</th>\n",
              "      <th>Rfree</th>\n",
              "      <th>infl</th>\n",
              "      <th>ltr</th>\n",
              "      <th>corpr</th>\n",
              "      <th>svar</th>\n",
              "      <th>csp</th>\n",
              "      <th>ik</th>\n",
              "      <th>CRSP_SPvw</th>\n",
              "      <th>CRSP_SPvwx</th>\n",
              "    </tr>\n",
              "  </thead>\n",
              "  <tbody>\n",
              "    <tr>\n",
              "      <th>0</th>\n",
              "      <td>18711.0</td>\n",
              "      <td>4.61</td>\n",
              "      <td>NaN</td>\n",
              "      <td>0.26</td>\n",
              "      <td>NaN</td>\n",
              "      <td>0.400</td>\n",
              "      <td>NaN</td>\n",
              "      <td>NaN</td>\n",
              "      <td>NaN</td>\n",
              "      <td>NaN</td>\n",
              "      <td>NaN</td>\n",
              "      <td>NaN</td>\n",
              "      <td>NaN</td>\n",
              "      <td>0.013712</td>\n",
              "      <td>NaN</td>\n",
              "      <td>NaN</td>\n",
              "      <td>NaN</td>\n",
              "      <td>NaN</td>\n",
              "      <td>NaN</td>\n",
              "      <td>NaN</td>\n",
              "      <td>NaN</td>\n",
              "      <td>NaN</td>\n",
              "    </tr>\n",
              "    <tr>\n",
              "      <th>1</th>\n",
              "      <td>18712.0</td>\n",
              "      <td>4.82</td>\n",
              "      <td>NaN</td>\n",
              "      <td>0.26</td>\n",
              "      <td>NaN</td>\n",
              "      <td>0.400</td>\n",
              "      <td>NaN</td>\n",
              "      <td>NaN</td>\n",
              "      <td>NaN</td>\n",
              "      <td>NaN</td>\n",
              "      <td>NaN</td>\n",
              "      <td>NaN</td>\n",
              "      <td>NaN</td>\n",
              "      <td>0.011691</td>\n",
              "      <td>NaN</td>\n",
              "      <td>NaN</td>\n",
              "      <td>NaN</td>\n",
              "      <td>NaN</td>\n",
              "      <td>NaN</td>\n",
              "      <td>NaN</td>\n",
              "      <td>NaN</td>\n",
              "      <td>NaN</td>\n",
              "    </tr>\n",
              "    <tr>\n",
              "      <th>2</th>\n",
              "      <td>18713.0</td>\n",
              "      <td>4.84</td>\n",
              "      <td>NaN</td>\n",
              "      <td>0.26</td>\n",
              "      <td>NaN</td>\n",
              "      <td>0.400</td>\n",
              "      <td>NaN</td>\n",
              "      <td>NaN</td>\n",
              "      <td>NaN</td>\n",
              "      <td>NaN</td>\n",
              "      <td>NaN</td>\n",
              "      <td>NaN</td>\n",
              "      <td>NaN</td>\n",
              "      <td>0.011500</td>\n",
              "      <td>NaN</td>\n",
              "      <td>NaN</td>\n",
              "      <td>NaN</td>\n",
              "      <td>NaN</td>\n",
              "      <td>NaN</td>\n",
              "      <td>NaN</td>\n",
              "      <td>NaN</td>\n",
              "      <td>NaN</td>\n",
              "    </tr>\n",
              "    <tr>\n",
              "      <th>3</th>\n",
              "      <td>18714.0</td>\n",
              "      <td>4.74</td>\n",
              "      <td>NaN</td>\n",
              "      <td>0.26</td>\n",
              "      <td>NaN</td>\n",
              "      <td>0.400</td>\n",
              "      <td>NaN</td>\n",
              "      <td>NaN</td>\n",
              "      <td>NaN</td>\n",
              "      <td>NaN</td>\n",
              "      <td>NaN</td>\n",
              "      <td>NaN</td>\n",
              "      <td>NaN</td>\n",
              "      <td>0.020433</td>\n",
              "      <td>NaN</td>\n",
              "      <td>NaN</td>\n",
              "      <td>NaN</td>\n",
              "      <td>NaN</td>\n",
              "      <td>NaN</td>\n",
              "      <td>NaN</td>\n",
              "      <td>NaN</td>\n",
              "      <td>NaN</td>\n",
              "    </tr>\n",
              "    <tr>\n",
              "      <th>4</th>\n",
              "      <td>18721.0</td>\n",
              "      <td>5.04</td>\n",
              "      <td>NaN</td>\n",
              "      <td>0.27</td>\n",
              "      <td>NaN</td>\n",
              "      <td>0.408</td>\n",
              "      <td>NaN</td>\n",
              "      <td>NaN</td>\n",
              "      <td>NaN</td>\n",
              "      <td>NaN</td>\n",
              "      <td>NaN</td>\n",
              "      <td>NaN</td>\n",
              "      <td>NaN</td>\n",
              "      <td>0.016935</td>\n",
              "      <td>NaN</td>\n",
              "      <td>NaN</td>\n",
              "      <td>NaN</td>\n",
              "      <td>NaN</td>\n",
              "      <td>NaN</td>\n",
              "      <td>NaN</td>\n",
              "      <td>NaN</td>\n",
              "      <td>NaN</td>\n",
              "    </tr>\n",
              "  </tbody>\n",
              "</table>\n",
              "</div>"
            ],
            "text/plain": [
              "     yyyyq  Index  D3   D12  E3  ...  svar  csp  ik  CRSP_SPvw  CRSP_SPvwx\n",
              "0  18711.0   4.61 NaN  0.26 NaN  ...   NaN  NaN NaN        NaN         NaN\n",
              "1  18712.0   4.82 NaN  0.26 NaN  ...   NaN  NaN NaN        NaN         NaN\n",
              "2  18713.0   4.84 NaN  0.26 NaN  ...   NaN  NaN NaN        NaN         NaN\n",
              "3  18714.0   4.74 NaN  0.26 NaN  ...   NaN  NaN NaN        NaN         NaN\n",
              "4  18721.0   5.04 NaN  0.27 NaN  ...   NaN  NaN NaN        NaN         NaN\n",
              "\n",
              "[5 rows x 22 columns]"
            ]
          },
          "metadata": {
            "tags": []
          },
          "execution_count": 113
        }
      ]
    },
    {
      "cell_type": "code",
      "metadata": {
        "id": "ZZaF-YMnYSvE",
        "outputId": "9f175201-9781-4d9e-9feb-8b2fa4b41a2e",
        "colab": {
          "base_uri": "https://localhost:8080/",
          "height": 34
        }
      },
      "source": [
        "predictor_data.shape"
      ],
      "execution_count": 114,
      "outputs": [
        {
          "output_type": "execute_result",
          "data": {
            "text/plain": [
              "(542, 22)"
            ]
          },
          "metadata": {
            "tags": []
          },
          "execution_count": 114
        }
      ]
    },
    {
      "cell_type": "code",
      "metadata": {
        "id": "HA7nuBwjYN-P",
        "outputId": "2da70008-1e8e-4df0-8e14-2f150c8c2123",
        "colab": {
          "base_uri": "https://localhost:8080/",
          "height": 1000
        }
      },
      "source": [
        "predictor_data.iloc[500:]"
      ],
      "execution_count": 115,
      "outputs": [
        {
          "output_type": "execute_result",
          "data": {
            "text/html": [
              "<div>\n",
              "<style scoped>\n",
              "    .dataframe tbody tr th:only-of-type {\n",
              "        vertical-align: middle;\n",
              "    }\n",
              "\n",
              "    .dataframe tbody tr th {\n",
              "        vertical-align: top;\n",
              "    }\n",
              "\n",
              "    .dataframe thead th {\n",
              "        text-align: right;\n",
              "    }\n",
              "</style>\n",
              "<table border=\"1\" class=\"dataframe\">\n",
              "  <thead>\n",
              "    <tr style=\"text-align: right;\">\n",
              "      <th></th>\n",
              "      <th>yyyyq</th>\n",
              "      <th>Index</th>\n",
              "      <th>D3</th>\n",
              "      <th>D12</th>\n",
              "      <th>E3</th>\n",
              "      <th>E12</th>\n",
              "      <th>b/m</th>\n",
              "      <th>tbl</th>\n",
              "      <th>AAA</th>\n",
              "      <th>BAA</th>\n",
              "      <th>lty</th>\n",
              "      <th>cay</th>\n",
              "      <th>ntis</th>\n",
              "      <th>Rfree</th>\n",
              "      <th>infl</th>\n",
              "      <th>ltr</th>\n",
              "      <th>corpr</th>\n",
              "      <th>svar</th>\n",
              "      <th>csp</th>\n",
              "      <th>ik</th>\n",
              "      <th>CRSP_SPvw</th>\n",
              "      <th>CRSP_SPvwx</th>\n",
              "    </tr>\n",
              "  </thead>\n",
              "  <tbody>\n",
              "    <tr>\n",
              "      <th>500</th>\n",
              "      <td>19961.0</td>\n",
              "      <td>645.50</td>\n",
              "      <td>3.450</td>\n",
              "      <td>14.100</td>\n",
              "      <td>8.96</td>\n",
              "      <td>34.04</td>\n",
              "      <td>0.239300</td>\n",
              "      <td>0.0496</td>\n",
              "      <td>0.0735</td>\n",
              "      <td>0.0803</td>\n",
              "      <td>0.0684</td>\n",
              "      <td>0.011151</td>\n",
              "      <td>0.017020</td>\n",
              "      <td>0.012300</td>\n",
              "      <td>0.014296</td>\n",
              "      <td>-0.069311</td>\n",
              "      <td>-0.048485</td>\n",
              "      <td>0.004393</td>\n",
              "      <td>0.000031</td>\n",
              "      <td>0.037532</td>\n",
              "      <td>0.055388</td>\n",
              "      <td>0.049584</td>\n",
              "    </tr>\n",
              "    <tr>\n",
              "      <th>501</th>\n",
              "      <td>19962.0</td>\n",
              "      <td>670.63</td>\n",
              "      <td>3.770</td>\n",
              "      <td>14.270</td>\n",
              "      <td>10.13</td>\n",
              "      <td>34.91</td>\n",
              "      <td>0.236444</td>\n",
              "      <td>0.0509</td>\n",
              "      <td>0.0771</td>\n",
              "      <td>0.0840</td>\n",
              "      <td>0.0703</td>\n",
              "      <td>0.008693</td>\n",
              "      <td>0.027401</td>\n",
              "      <td>0.012524</td>\n",
              "      <td>0.006413</td>\n",
              "      <td>-0.001954</td>\n",
              "      <td>0.001425</td>\n",
              "      <td>0.002502</td>\n",
              "      <td>-0.000848</td>\n",
              "      <td>0.038134</td>\n",
              "      <td>0.045049</td>\n",
              "      <td>0.039408</td>\n",
              "    </tr>\n",
              "    <tr>\n",
              "      <th>502</th>\n",
              "      <td>19963.0</td>\n",
              "      <td>687.31</td>\n",
              "      <td>3.890</td>\n",
              "      <td>14.660</td>\n",
              "      <td>9.78</td>\n",
              "      <td>36.00</td>\n",
              "      <td>0.227297</td>\n",
              "      <td>0.0509</td>\n",
              "      <td>0.0766</td>\n",
              "      <td>0.0835</td>\n",
              "      <td>0.0704</td>\n",
              "      <td>0.008740</td>\n",
              "      <td>0.028905</td>\n",
              "      <td>0.012715</td>\n",
              "      <td>0.007011</td>\n",
              "      <td>0.016523</td>\n",
              "      <td>0.019737</td>\n",
              "      <td>0.004163</td>\n",
              "      <td>-0.000539</td>\n",
              "      <td>0.038890</td>\n",
              "      <td>0.031213</td>\n",
              "      <td>0.025321</td>\n",
              "    </tr>\n",
              "    <tr>\n",
              "      <th>503</th>\n",
              "      <td>19964.0</td>\n",
              "      <td>740.74</td>\n",
              "      <td>3.790</td>\n",
              "      <td>14.900</td>\n",
              "      <td>9.86</td>\n",
              "      <td>38.73</td>\n",
              "      <td>0.207343</td>\n",
              "      <td>0.0491</td>\n",
              "      <td>0.0720</td>\n",
              "      <td>0.0789</td>\n",
              "      <td>0.0673</td>\n",
              "      <td>0.008285</td>\n",
              "      <td>0.023373</td>\n",
              "      <td>0.012416</td>\n",
              "      <td>0.005063</td>\n",
              "      <td>0.049349</td>\n",
              "      <td>0.043571</td>\n",
              "      <td>0.003019</td>\n",
              "      <td>-0.000397</td>\n",
              "      <td>0.039388</td>\n",
              "      <td>0.083464</td>\n",
              "      <td>0.077698</td>\n",
              "    </tr>\n",
              "    <tr>\n",
              "      <th>504</th>\n",
              "      <td>19971.0</td>\n",
              "      <td>757.12</td>\n",
              "      <td>3.610</td>\n",
              "      <td>15.060</td>\n",
              "      <td>10.47</td>\n",
              "      <td>40.24</td>\n",
              "      <td>0.214780</td>\n",
              "      <td>0.0514</td>\n",
              "      <td>0.0755</td>\n",
              "      <td>0.0818</td>\n",
              "      <td>0.0723</td>\n",
              "      <td>0.009648</td>\n",
              "      <td>0.020448</td>\n",
              "      <td>0.012623</td>\n",
              "      <td>0.008814</td>\n",
              "      <td>-0.032417</td>\n",
              "      <td>-0.022108</td>\n",
              "      <td>0.004836</td>\n",
              "      <td>-0.001308</td>\n",
              "      <td>0.039817</td>\n",
              "      <td>0.026425</td>\n",
              "      <td>0.021620</td>\n",
              "    </tr>\n",
              "    <tr>\n",
              "      <th>505</th>\n",
              "      <td>19972.0</td>\n",
              "      <td>885.14</td>\n",
              "      <td>3.870</td>\n",
              "      <td>15.160</td>\n",
              "      <td>10.44</td>\n",
              "      <td>40.55</td>\n",
              "      <td>0.184288</td>\n",
              "      <td>0.0493</td>\n",
              "      <td>0.0741</td>\n",
              "      <td>0.0802</td>\n",
              "      <td>0.0688</td>\n",
              "      <td>-0.000244</td>\n",
              "      <td>0.010318</td>\n",
              "      <td>0.012590</td>\n",
              "      <td>0.001873</td>\n",
              "      <td>0.055639</td>\n",
              "      <td>0.050723</td>\n",
              "      <td>0.006987</td>\n",
              "      <td>-0.000662</td>\n",
              "      <td>0.040209</td>\n",
              "      <td>0.175033</td>\n",
              "      <td>0.169812</td>\n",
              "    </tr>\n",
              "    <tr>\n",
              "      <th>506</th>\n",
              "      <td>19973.0</td>\n",
              "      <td>947.28</td>\n",
              "      <td>4.060</td>\n",
              "      <td>15.330</td>\n",
              "      <td>9.87</td>\n",
              "      <td>40.64</td>\n",
              "      <td>0.177968</td>\n",
              "      <td>0.0495</td>\n",
              "      <td>0.0715</td>\n",
              "      <td>0.0770</td>\n",
              "      <td>0.0649</td>\n",
              "      <td>-0.003437</td>\n",
              "      <td>0.014817</td>\n",
              "      <td>0.012590</td>\n",
              "      <td>0.005609</td>\n",
              "      <td>0.061429</td>\n",
              "      <td>0.050755</td>\n",
              "      <td>0.007101</td>\n",
              "      <td>-0.000743</td>\n",
              "      <td>0.041632</td>\n",
              "      <td>0.076009</td>\n",
              "      <td>0.071382</td>\n",
              "    </tr>\n",
              "    <tr>\n",
              "      <th>507</th>\n",
              "      <td>19974.0</td>\n",
              "      <td>970.43</td>\n",
              "      <td>3.950</td>\n",
              "      <td>15.490</td>\n",
              "      <td>8.94</td>\n",
              "      <td>39.72</td>\n",
              "      <td>0.178801</td>\n",
              "      <td>0.0516</td>\n",
              "      <td>0.0676</td>\n",
              "      <td>0.0732</td>\n",
              "      <td>0.0602</td>\n",
              "      <td>-0.007096</td>\n",
              "      <td>0.015723</td>\n",
              "      <td>0.012698</td>\n",
              "      <td>0.000616</td>\n",
              "      <td>0.068714</td>\n",
              "      <td>0.046172</td>\n",
              "      <td>0.014275</td>\n",
              "      <td>-0.000889</td>\n",
              "      <td>0.041289</td>\n",
              "      <td>0.029499</td>\n",
              "      <td>0.025245</td>\n",
              "    </tr>\n",
              "    <tr>\n",
              "      <th>508</th>\n",
              "      <td>19981.0</td>\n",
              "      <td>1101.75</td>\n",
              "      <td>3.760</td>\n",
              "      <td>15.640</td>\n",
              "      <td>10.29</td>\n",
              "      <td>39.54</td>\n",
              "      <td>0.181140</td>\n",
              "      <td>0.0503</td>\n",
              "      <td>0.0672</td>\n",
              "      <td>0.0732</td>\n",
              "      <td>0.0602</td>\n",
              "      <td>-0.018573</td>\n",
              "      <td>0.016629</td>\n",
              "      <td>0.012607</td>\n",
              "      <td>0.005574</td>\n",
              "      <td>0.015188</td>\n",
              "      <td>0.016840</td>\n",
              "      <td>0.004659</td>\n",
              "      <td>-0.000740</td>\n",
              "      <td>0.041994</td>\n",
              "      <td>0.140518</td>\n",
              "      <td>0.136398</td>\n",
              "    </tr>\n",
              "    <tr>\n",
              "      <th>509</th>\n",
              "      <td>19982.0</td>\n",
              "      <td>1133.84</td>\n",
              "      <td>4.180</td>\n",
              "      <td>15.950</td>\n",
              "      <td>9.87</td>\n",
              "      <td>38.97</td>\n",
              "      <td>0.178061</td>\n",
              "      <td>0.0498</td>\n",
              "      <td>0.0653</td>\n",
              "      <td>0.0713</td>\n",
              "      <td>0.0576</td>\n",
              "      <td>-0.018654</td>\n",
              "      <td>0.024024</td>\n",
              "      <td>0.012416</td>\n",
              "      <td>0.004928</td>\n",
              "      <td>0.044123</td>\n",
              "      <td>0.033843</td>\n",
              "      <td>0.004671</td>\n",
              "      <td>-0.001169</td>\n",
              "      <td>0.042567</td>\n",
              "      <td>0.034129</td>\n",
              "      <td>0.030238</td>\n",
              "    </tr>\n",
              "    <tr>\n",
              "      <th>510</th>\n",
              "      <td>19983.0</td>\n",
              "      <td>1017.01</td>\n",
              "      <td>4.260</td>\n",
              "      <td>16.150</td>\n",
              "      <td>8.99</td>\n",
              "      <td>38.09</td>\n",
              "      <td>0.203248</td>\n",
              "      <td>0.0461</td>\n",
              "      <td>0.0640</td>\n",
              "      <td>0.0709</td>\n",
              "      <td>0.0517</td>\n",
              "      <td>-0.005568</td>\n",
              "      <td>0.024492</td>\n",
              "      <td>0.012034</td>\n",
              "      <td>0.003679</td>\n",
              "      <td>0.083485</td>\n",
              "      <td>0.044684</td>\n",
              "      <td>0.021533</td>\n",
              "      <td>-0.001634</td>\n",
              "      <td>0.042232</td>\n",
              "      <td>-0.098146</td>\n",
              "      <td>-0.101882</td>\n",
              "    </tr>\n",
              "    <tr>\n",
              "      <th>511</th>\n",
              "      <td>19984.0</td>\n",
              "      <td>1229.23</td>\n",
              "      <td>4.000</td>\n",
              "      <td>16.200</td>\n",
              "      <td>8.56</td>\n",
              "      <td>37.71</td>\n",
              "      <td>0.173611</td>\n",
              "      <td>0.0439</td>\n",
              "      <td>0.0622</td>\n",
              "      <td>0.0723</td>\n",
              "      <td>0.0542</td>\n",
              "      <td>-0.020438</td>\n",
              "      <td>0.019855</td>\n",
              "      <td>0.010614</td>\n",
              "      <td>0.001831</td>\n",
              "      <td>-0.015472</td>\n",
              "      <td>0.008494</td>\n",
              "      <td>0.010395</td>\n",
              "      <td>-0.001034</td>\n",
              "      <td>0.042801</td>\n",
              "      <td>0.215775</td>\n",
              "      <td>0.211561</td>\n",
              "    </tr>\n",
              "    <tr>\n",
              "      <th>512</th>\n",
              "      <td>19991.0</td>\n",
              "      <td>1286.37</td>\n",
              "      <td>4.010</td>\n",
              "      <td>16.450</td>\n",
              "      <td>10.96</td>\n",
              "      <td>38.38</td>\n",
              "      <td>0.172897</td>\n",
              "      <td>0.0444</td>\n",
              "      <td>0.0662</td>\n",
              "      <td>0.0753</td>\n",
              "      <td>0.0592</td>\n",
              "      <td>-0.023733</td>\n",
              "      <td>0.020349</td>\n",
              "      <td>0.010996</td>\n",
              "      <td>0.006703</td>\n",
              "      <td>-0.041297</td>\n",
              "      <td>-0.028099</td>\n",
              "      <td>0.010031</td>\n",
              "      <td>-0.001075</td>\n",
              "      <td>0.042809</td>\n",
              "      <td>0.048907</td>\n",
              "      <td>0.045486</td>\n",
              "    </tr>\n",
              "    <tr>\n",
              "      <th>513</th>\n",
              "      <td>19992.0</td>\n",
              "      <td>1372.71</td>\n",
              "      <td>4.180</td>\n",
              "      <td>16.450</td>\n",
              "      <td>12.51</td>\n",
              "      <td>41.02</td>\n",
              "      <td>0.154227</td>\n",
              "      <td>0.0457</td>\n",
              "      <td>0.0723</td>\n",
              "      <td>0.0802</td>\n",
              "      <td>0.0627</td>\n",
              "      <td>-0.019558</td>\n",
              "      <td>0.018703</td>\n",
              "      <td>0.011113</td>\n",
              "      <td>0.007246</td>\n",
              "      <td>-0.024111</td>\n",
              "      <td>-0.035638</td>\n",
              "      <td>0.008222</td>\n",
              "      <td>-0.001145</td>\n",
              "      <td>0.043342</td>\n",
              "      <td>0.068664</td>\n",
              "      <td>0.065079</td>\n",
              "    </tr>\n",
              "    <tr>\n",
              "      <th>514</th>\n",
              "      <td>19993.0</td>\n",
              "      <td>1282.71</td>\n",
              "      <td>4.450</td>\n",
              "      <td>16.640</td>\n",
              "      <td>11.93</td>\n",
              "      <td>43.96</td>\n",
              "      <td>0.163684</td>\n",
              "      <td>0.0468</td>\n",
              "      <td>0.0739</td>\n",
              "      <td>0.0820</td>\n",
              "      <td>0.0646</td>\n",
              "      <td>-0.012147</td>\n",
              "      <td>0.019885</td>\n",
              "      <td>0.011603</td>\n",
              "      <td>0.010210</td>\n",
              "      <td>-0.004668</td>\n",
              "      <td>-0.004700</td>\n",
              "      <td>0.007046</td>\n",
              "      <td>-0.000986</td>\n",
              "      <td>0.043584</td>\n",
              "      <td>-0.062164</td>\n",
              "      <td>-0.065414</td>\n",
              "    </tr>\n",
              "    <tr>\n",
              "      <th>515</th>\n",
              "      <td>19994.0</td>\n",
              "      <td>1469.25</td>\n",
              "      <td>4.050</td>\n",
              "      <td>16.690</td>\n",
              "      <td>12.77</td>\n",
              "      <td>48.17</td>\n",
              "      <td>0.147167</td>\n",
              "      <td>0.0520</td>\n",
              "      <td>0.0755</td>\n",
              "      <td>0.0819</td>\n",
              "      <td>0.0682</td>\n",
              "      <td>-0.024095</td>\n",
              "      <td>0.017940</td>\n",
              "      <td>0.012582</td>\n",
              "      <td>0.002381</td>\n",
              "      <td>-0.022680</td>\n",
              "      <td>-0.007935</td>\n",
              "      <td>0.007379</td>\n",
              "      <td>0.000064</td>\n",
              "      <td>0.042895</td>\n",
              "      <td>0.154340</td>\n",
              "      <td>0.150919</td>\n",
              "    </tr>\n",
              "    <tr>\n",
              "      <th>516</th>\n",
              "      <td>20001.0</td>\n",
              "      <td>1498.58</td>\n",
              "      <td>4.080</td>\n",
              "      <td>16.760</td>\n",
              "      <td>13.74</td>\n",
              "      <td>50.95</td>\n",
              "      <td>0.149974</td>\n",
              "      <td>0.0569</td>\n",
              "      <td>0.0768</td>\n",
              "      <td>0.0837</td>\n",
              "      <td>0.0618</td>\n",
              "      <td>-0.030506</td>\n",
              "      <td>0.018373</td>\n",
              "      <td>0.013768</td>\n",
              "      <td>0.017175</td>\n",
              "      <td>0.088330</td>\n",
              "      <td>0.024100</td>\n",
              "      <td>0.014885</td>\n",
              "      <td>0.000185</td>\n",
              "      <td>0.043575</td>\n",
              "      <td>0.025744</td>\n",
              "      <td>0.022712</td>\n",
              "    </tr>\n",
              "    <tr>\n",
              "      <th>517</th>\n",
              "      <td>20002.0</td>\n",
              "      <td>1454.60</td>\n",
              "      <td>4.120</td>\n",
              "      <td>16.700</td>\n",
              "      <td>13.48</td>\n",
              "      <td>51.92</td>\n",
              "      <td>0.156778</td>\n",
              "      <td>0.0569</td>\n",
              "      <td>0.0767</td>\n",
              "      <td>0.0848</td>\n",
              "      <td>0.0622</td>\n",
              "      <td>-0.020222</td>\n",
              "      <td>-0.002941</td>\n",
              "      <td>0.014249</td>\n",
              "      <td>0.006995</td>\n",
              "      <td>0.011125</td>\n",
              "      <td>0.004291</td>\n",
              "      <td>0.015487</td>\n",
              "      <td>-0.000247</td>\n",
              "      <td>0.044278</td>\n",
              "      <td>-0.028488</td>\n",
              "      <td>-0.031143</td>\n",
              "    </tr>\n",
              "    <tr>\n",
              "      <th>518</th>\n",
              "      <td>20003.0</td>\n",
              "      <td>1436.51</td>\n",
              "      <td>4.090</td>\n",
              "      <td>16.340</td>\n",
              "      <td>13.71</td>\n",
              "      <td>53.70</td>\n",
              "      <td>0.153789</td>\n",
              "      <td>0.0600</td>\n",
              "      <td>0.0762</td>\n",
              "      <td>0.0835</td>\n",
              "      <td>0.0612</td>\n",
              "      <td>-0.021225</td>\n",
              "      <td>-0.000029</td>\n",
              "      <td>0.015004</td>\n",
              "      <td>0.007524</td>\n",
              "      <td>0.025360</td>\n",
              "      <td>0.036387</td>\n",
              "      <td>0.004705</td>\n",
              "      <td>-0.000508</td>\n",
              "      <td>0.043674</td>\n",
              "      <td>-0.003514</td>\n",
              "      <td>-0.006370</td>\n",
              "    </tr>\n",
              "    <tr>\n",
              "      <th>519</th>\n",
              "      <td>20004.0</td>\n",
              "      <td>1320.28</td>\n",
              "      <td>3.980</td>\n",
              "      <td>16.270</td>\n",
              "      <td>9.07</td>\n",
              "      <td>50.00</td>\n",
              "      <td>0.151852</td>\n",
              "      <td>0.0577</td>\n",
              "      <td>0.0721</td>\n",
              "      <td>0.0802</td>\n",
              "      <td>0.0558</td>\n",
              "      <td>-0.006418</td>\n",
              "      <td>-0.006949</td>\n",
              "      <td>0.015004</td>\n",
              "      <td>0.001725</td>\n",
              "      <td>0.076741</td>\n",
              "      <td>0.058753</td>\n",
              "      <td>0.014140</td>\n",
              "      <td>-0.000525</td>\n",
              "      <td>0.042965</td>\n",
              "      <td>-0.076940</td>\n",
              "      <td>-0.079714</td>\n",
              "    </tr>\n",
              "    <tr>\n",
              "      <th>520</th>\n",
              "      <td>20011.0</td>\n",
              "      <td>1160.33</td>\n",
              "      <td>3.780</td>\n",
              "      <td>15.970</td>\n",
              "      <td>9.18</td>\n",
              "      <td>45.44</td>\n",
              "      <td>0.133114</td>\n",
              "      <td>0.0442</td>\n",
              "      <td>0.0698</td>\n",
              "      <td>0.0784</td>\n",
              "      <td>0.0559</td>\n",
              "      <td>0.001537</td>\n",
              "      <td>-0.009986</td>\n",
              "      <td>0.012017</td>\n",
              "      <td>0.012613</td>\n",
              "      <td>0.012064</td>\n",
              "      <td>0.046014</td>\n",
              "      <td>0.014609</td>\n",
              "      <td>-0.001864</td>\n",
              "      <td>0.041752</td>\n",
              "      <td>-0.121322</td>\n",
              "      <td>-0.124090</td>\n",
              "    </tr>\n",
              "    <tr>\n",
              "      <th>521</th>\n",
              "      <td>20012.0</td>\n",
              "      <td>1224.42</td>\n",
              "      <td>3.840</td>\n",
              "      <td>15.690</td>\n",
              "      <td>4.83</td>\n",
              "      <td>36.79</td>\n",
              "      <td>0.125209</td>\n",
              "      <td>0.0349</td>\n",
              "      <td>0.0718</td>\n",
              "      <td>0.0797</td>\n",
              "      <td>0.0590</td>\n",
              "      <td>-0.000869</td>\n",
              "      <td>0.013045</td>\n",
              "      <td>0.009136</td>\n",
              "      <td>0.010196</td>\n",
              "      <td>-0.019451</td>\n",
              "      <td>0.005732</td>\n",
              "      <td>0.011471</td>\n",
              "      <td>-0.001592</td>\n",
              "      <td>0.039592</td>\n",
              "      <td>0.058862</td>\n",
              "      <td>0.055644</td>\n",
              "    </tr>\n",
              "    <tr>\n",
              "      <th>522</th>\n",
              "      <td>20013.0</td>\n",
              "      <td>1040.94</td>\n",
              "      <td>4.140</td>\n",
              "      <td>15.740</td>\n",
              "      <td>5.23</td>\n",
              "      <td>28.31</td>\n",
              "      <td>0.148629</td>\n",
              "      <td>0.0264</td>\n",
              "      <td>0.0717</td>\n",
              "      <td>0.0803</td>\n",
              "      <td>0.0542</td>\n",
              "      <td>-0.000782</td>\n",
              "      <td>0.011066</td>\n",
              "      <td>0.007914</td>\n",
              "      <td>0.001671</td>\n",
              "      <td>0.067552</td>\n",
              "      <td>0.036269</td>\n",
              "      <td>0.012289</td>\n",
              "      <td>-0.001823</td>\n",
              "      <td>0.038339</td>\n",
              "      <td>-0.146713</td>\n",
              "      <td>-0.149865</td>\n",
              "    </tr>\n",
              "    <tr>\n",
              "      <th>523</th>\n",
              "      <td>20014.0</td>\n",
              "      <td>1148.08</td>\n",
              "      <td>3.980</td>\n",
              "      <td>15.740</td>\n",
              "      <td>5.45</td>\n",
              "      <td>24.69</td>\n",
              "      <td>0.131218</td>\n",
              "      <td>0.0169</td>\n",
              "      <td>0.0677</td>\n",
              "      <td>0.0805</td>\n",
              "      <td>0.0575</td>\n",
              "      <td>0.000412</td>\n",
              "      <td>0.016070</td>\n",
              "      <td>0.004763</td>\n",
              "      <td>-0.008988</td>\n",
              "      <td>-0.021133</td>\n",
              "      <td>0.014862</td>\n",
              "      <td>0.007237</td>\n",
              "      <td>-0.001336</td>\n",
              "      <td>0.036503</td>\n",
              "      <td>0.109844</td>\n",
              "      <td>0.105897</td>\n",
              "    </tr>\n",
              "    <tr>\n",
              "      <th>524</th>\n",
              "      <td>20021.0</td>\n",
              "      <td>1147.39</td>\n",
              "      <td>3.770</td>\n",
              "      <td>15.730</td>\n",
              "      <td>9.19</td>\n",
              "      <td>24.70</td>\n",
              "      <td>0.236833</td>\n",
              "      <td>0.0179</td>\n",
              "      <td>0.0681</td>\n",
              "      <td>0.0811</td>\n",
              "      <td>0.0604</td>\n",
              "      <td>-0.016529</td>\n",
              "      <td>0.016241</td>\n",
              "      <td>0.004305</td>\n",
              "      <td>0.011858</td>\n",
              "      <td>-0.019251</td>\n",
              "      <td>0.000321</td>\n",
              "      <td>0.006767</td>\n",
              "      <td>-0.002239</td>\n",
              "      <td>0.034874</td>\n",
              "      <td>0.002818</td>\n",
              "      <td>-0.000599</td>\n",
              "    </tr>\n",
              "    <tr>\n",
              "      <th>525</th>\n",
              "      <td>20022.0</td>\n",
              "      <td>989.81</td>\n",
              "      <td>4.150</td>\n",
              "      <td>16.040</td>\n",
              "      <td>6.87</td>\n",
              "      <td>26.74</td>\n",
              "      <td>0.266573</td>\n",
              "      <td>0.0170</td>\n",
              "      <td>0.0663</td>\n",
              "      <td>0.0795</td>\n",
              "      <td>0.0566</td>\n",
              "      <td>-0.007688</td>\n",
              "      <td>0.029238</td>\n",
              "      <td>0.004289</td>\n",
              "      <td>0.006136</td>\n",
              "      <td>0.062057</td>\n",
              "      <td>0.044455</td>\n",
              "      <td>0.010129</td>\n",
              "      <td>-0.002607</td>\n",
              "      <td>0.033998</td>\n",
              "      <td>-0.134753</td>\n",
              "      <td>-0.138092</td>\n",
              "    </tr>\n",
              "    <tr>\n",
              "      <th>526</th>\n",
              "      <td>20023.0</td>\n",
              "      <td>815.29</td>\n",
              "      <td>3.901</td>\n",
              "      <td>15.801</td>\n",
              "      <td>8.53</td>\n",
              "      <td>30.04</td>\n",
              "      <td>0.324555</td>\n",
              "      <td>0.0163</td>\n",
              "      <td>0.0615</td>\n",
              "      <td>0.0740</td>\n",
              "      <td>0.0480</td>\n",
              "      <td>0.003594</td>\n",
              "      <td>0.032365</td>\n",
              "      <td>0.004106</td>\n",
              "      <td>0.006107</td>\n",
              "      <td>0.123063</td>\n",
              "      <td>0.089841</td>\n",
              "      <td>0.032118</td>\n",
              "      <td>-0.003213</td>\n",
              "      <td>0.033528</td>\n",
              "      <td>-0.169159</td>\n",
              "      <td>-0.172859</td>\n",
              "    </tr>\n",
              "    <tr>\n",
              "      <th>527</th>\n",
              "      <td>20024.0</td>\n",
              "      <td>879.82</td>\n",
              "      <td>4.256</td>\n",
              "      <td>16.077</td>\n",
              "      <td>3.00</td>\n",
              "      <td>27.59</td>\n",
              "      <td>0.295386</td>\n",
              "      <td>0.0119</td>\n",
              "      <td>0.0621</td>\n",
              "      <td>0.0745</td>\n",
              "      <td>0.0484</td>\n",
              "      <td>0.000508</td>\n",
              "      <td>0.028521</td>\n",
              "      <td>0.003331</td>\n",
              "      <td>-0.000556</td>\n",
              "      <td>0.007368</td>\n",
              "      <td>0.024380</td>\n",
              "      <td>0.018678</td>\n",
              "      <td>-0.004144</td>\n",
              "      <td>0.032822</td>\n",
              "      <td>0.085041</td>\n",
              "      <td>0.079853</td>\n",
              "    </tr>\n",
              "    <tr>\n",
              "      <th>528</th>\n",
              "      <td>20031.0</td>\n",
              "      <td>848.18</td>\n",
              "      <td>3.922</td>\n",
              "      <td>16.229</td>\n",
              "      <td>11.92</td>\n",
              "      <td>30.32</td>\n",
              "      <td>0.286156</td>\n",
              "      <td>0.0113</td>\n",
              "      <td>0.0589</td>\n",
              "      <td>0.0695</td>\n",
              "      <td>0.0490</td>\n",
              "      <td>0.003504</td>\n",
              "      <td>0.026611</td>\n",
              "      <td>0.002890</td>\n",
              "      <td>0.018202</td>\n",
              "      <td>0.008155</td>\n",
              "      <td>0.020327</td>\n",
              "      <td>0.013868</td>\n",
              "      <td>NaN</td>\n",
              "      <td>0.032354</td>\n",
              "      <td>-0.031522</td>\n",
              "      <td>-0.036022</td>\n",
              "    </tr>\n",
              "    <tr>\n",
              "      <th>529</th>\n",
              "      <td>20032.0</td>\n",
              "      <td>974.51</td>\n",
              "      <td>4.086</td>\n",
              "      <td>16.165</td>\n",
              "      <td>11.10</td>\n",
              "      <td>34.55</td>\n",
              "      <td>0.254523</td>\n",
              "      <td>0.0092</td>\n",
              "      <td>0.0497</td>\n",
              "      <td>0.0619</td>\n",
              "      <td>0.0445</td>\n",
              "      <td>-0.009293</td>\n",
              "      <td>0.001851</td>\n",
              "      <td>0.002599</td>\n",
              "      <td>-0.002714</td>\n",
              "      <td>0.053526</td>\n",
              "      <td>0.055762</td>\n",
              "      <td>0.007291</td>\n",
              "      <td>NaN</td>\n",
              "      <td>0.032943</td>\n",
              "      <td>0.155112</td>\n",
              "      <td>0.150161</td>\n",
              "    </tr>\n",
              "    <tr>\n",
              "      <th>530</th>\n",
              "      <td>20033.0</td>\n",
              "      <td>995.97</td>\n",
              "      <td>4.322</td>\n",
              "      <td>16.586</td>\n",
              "      <td>12.56</td>\n",
              "      <td>38.58</td>\n",
              "      <td>0.246575</td>\n",
              "      <td>0.0094</td>\n",
              "      <td>0.0572</td>\n",
              "      <td>0.0679</td>\n",
              "      <td>0.0523</td>\n",
              "      <td>-0.016191</td>\n",
              "      <td>0.007199</td>\n",
              "      <td>0.002324</td>\n",
              "      <td>0.008165</td>\n",
              "      <td>-0.033174</td>\n",
              "      <td>-0.021256</td>\n",
              "      <td>0.004881</td>\n",
              "      <td>NaN</td>\n",
              "      <td>0.033422</td>\n",
              "      <td>0.026746</td>\n",
              "      <td>0.022276</td>\n",
              "    </tr>\n",
              "    <tr>\n",
              "      <th>531</th>\n",
              "      <td>20034.0</td>\n",
              "      <td>1111.92</td>\n",
              "      <td>5.055</td>\n",
              "      <td>17.385</td>\n",
              "      <td>13.16</td>\n",
              "      <td>48.74</td>\n",
              "      <td>0.218770</td>\n",
              "      <td>0.0090</td>\n",
              "      <td>0.0562</td>\n",
              "      <td>0.0660</td>\n",
              "      <td>0.0515</td>\n",
              "      <td>-0.018662</td>\n",
              "      <td>0.006712</td>\n",
              "      <td>0.002291</td>\n",
              "      <td>-0.004860</td>\n",
              "      <td>-0.017453</td>\n",
              "      <td>-0.001517</td>\n",
              "      <td>0.003221</td>\n",
              "      <td>NaN</td>\n",
              "      <td>0.033376</td>\n",
              "      <td>0.120606</td>\n",
              "      <td>0.115323</td>\n",
              "    </tr>\n",
              "    <tr>\n",
              "      <th>532</th>\n",
              "      <td>20041.0</td>\n",
              "      <td>1126.21</td>\n",
              "      <td>4.560</td>\n",
              "      <td>18.023</td>\n",
              "      <td>15.18</td>\n",
              "      <td>52.00</td>\n",
              "      <td>0.271296</td>\n",
              "      <td>0.0094</td>\n",
              "      <td>0.0533</td>\n",
              "      <td>0.0611</td>\n",
              "      <td>0.0474</td>\n",
              "      <td>-0.016548</td>\n",
              "      <td>0.012057</td>\n",
              "      <td>0.002293</td>\n",
              "      <td>0.016820</td>\n",
              "      <td>0.056824</td>\n",
              "      <td>0.049067</td>\n",
              "      <td>0.003571</td>\n",
              "      <td>NaN</td>\n",
              "      <td>0.033241</td>\n",
              "      <td>0.018268</td>\n",
              "      <td>0.014124</td>\n",
              "    </tr>\n",
              "    <tr>\n",
              "      <th>533</th>\n",
              "      <td>20042.0</td>\n",
              "      <td>1140.84</td>\n",
              "      <td>4.664</td>\n",
              "      <td>18.601</td>\n",
              "      <td>15.25</td>\n",
              "      <td>56.15</td>\n",
              "      <td>0.269274</td>\n",
              "      <td>0.0127</td>\n",
              "      <td>0.0601</td>\n",
              "      <td>0.0678</td>\n",
              "      <td>0.0532</td>\n",
              "      <td>-0.014931</td>\n",
              "      <td>0.012324</td>\n",
              "      <td>0.002694</td>\n",
              "      <td>0.012273</td>\n",
              "      <td>-0.052270</td>\n",
              "      <td>-0.051380</td>\n",
              "      <td>0.002979</td>\n",
              "      <td>NaN</td>\n",
              "      <td>0.033547</td>\n",
              "      <td>0.017345</td>\n",
              "      <td>0.013111</td>\n",
              "    </tr>\n",
              "    <tr>\n",
              "      <th>534</th>\n",
              "      <td>20043.0</td>\n",
              "      <td>1114.58</td>\n",
              "      <td>4.882</td>\n",
              "      <td>19.163</td>\n",
              "      <td>14.18</td>\n",
              "      <td>57.77</td>\n",
              "      <td>0.278762</td>\n",
              "      <td>0.0165</td>\n",
              "      <td>0.0546</td>\n",
              "      <td>0.0627</td>\n",
              "      <td>0.0488</td>\n",
              "      <td>-0.016596</td>\n",
              "      <td>0.009123</td>\n",
              "      <td>0.003721</td>\n",
              "      <td>0.001054</td>\n",
              "      <td>0.065746</td>\n",
              "      <td>0.069319</td>\n",
              "      <td>0.002926</td>\n",
              "      <td>NaN</td>\n",
              "      <td>0.034090</td>\n",
              "      <td>-0.018741</td>\n",
              "      <td>-0.023167</td>\n",
              "    </tr>\n",
              "    <tr>\n",
              "      <th>535</th>\n",
              "      <td>20044.0</td>\n",
              "      <td>1211.92</td>\n",
              "      <td>5.334</td>\n",
              "      <td>19.440</td>\n",
              "      <td>13.94</td>\n",
              "      <td>58.55</td>\n",
              "      <td>0.260595</td>\n",
              "      <td>0.0219</td>\n",
              "      <td>0.0547</td>\n",
              "      <td>0.0615</td>\n",
              "      <td>0.0484</td>\n",
              "      <td>-0.023513</td>\n",
              "      <td>0.013007</td>\n",
              "      <td>0.005025</td>\n",
              "      <td>0.002106</td>\n",
              "      <td>0.016431</td>\n",
              "      <td>0.021671</td>\n",
              "      <td>0.002816</td>\n",
              "      <td>NaN</td>\n",
              "      <td>0.034467</td>\n",
              "      <td>0.091803</td>\n",
              "      <td>0.083486</td>\n",
              "    </tr>\n",
              "    <tr>\n",
              "      <th>536</th>\n",
              "      <td>20051.0</td>\n",
              "      <td>1180.59</td>\n",
              "      <td>5.345</td>\n",
              "      <td>20.226</td>\n",
              "      <td>16.95</td>\n",
              "      <td>60.32</td>\n",
              "      <td>0.335023</td>\n",
              "      <td>0.0274</td>\n",
              "      <td>0.0540</td>\n",
              "      <td>0.0606</td>\n",
              "      <td>0.0488</td>\n",
              "      <td>-0.019529</td>\n",
              "      <td>0.009205</td>\n",
              "      <td>0.006355</td>\n",
              "      <td>0.015765</td>\n",
              "      <td>0.009495</td>\n",
              "      <td>0.003487</td>\n",
              "      <td>0.002516</td>\n",
              "      <td>NaN</td>\n",
              "      <td>0.034646</td>\n",
              "      <td>-0.020251</td>\n",
              "      <td>-0.024754</td>\n",
              "    </tr>\n",
              "    <tr>\n",
              "      <th>537</th>\n",
              "      <td>20052.0</td>\n",
              "      <td>1191.33</td>\n",
              "      <td>5.364</td>\n",
              "      <td>20.926</td>\n",
              "      <td>18.29</td>\n",
              "      <td>63.36</td>\n",
              "      <td>0.342483</td>\n",
              "      <td>0.0297</td>\n",
              "      <td>0.0496</td>\n",
              "      <td>0.0586</td>\n",
              "      <td>0.0429</td>\n",
              "      <td>-0.016540</td>\n",
              "      <td>0.007552</td>\n",
              "      <td>0.007175</td>\n",
              "      <td>0.006208</td>\n",
              "      <td>0.085945</td>\n",
              "      <td>0.078155</td>\n",
              "      <td>0.003227</td>\n",
              "      <td>NaN</td>\n",
              "      <td>0.034748</td>\n",
              "      <td>0.013922</td>\n",
              "      <td>0.009300</td>\n",
              "    </tr>\n",
              "    <tr>\n",
              "      <th>538</th>\n",
              "      <td>20053.0</td>\n",
              "      <td>1228.81</td>\n",
              "      <td>5.432</td>\n",
              "      <td>21.475</td>\n",
              "      <td>17.39</td>\n",
              "      <td>66.57</td>\n",
              "      <td>0.332964</td>\n",
              "      <td>0.0342</td>\n",
              "      <td>0.0513</td>\n",
              "      <td>0.0603</td>\n",
              "      <td>0.0464</td>\n",
              "      <td>-0.017030</td>\n",
              "      <td>0.006060</td>\n",
              "      <td>0.008424</td>\n",
              "      <td>0.022108</td>\n",
              "      <td>-0.030379</td>\n",
              "      <td>-0.032617</td>\n",
              "      <td>0.002007</td>\n",
              "      <td>NaN</td>\n",
              "      <td>0.034910</td>\n",
              "      <td>0.036079</td>\n",
              "      <td>0.031457</td>\n",
              "    </tr>\n",
              "    <tr>\n",
              "      <th>539</th>\n",
              "      <td>20054.0</td>\n",
              "      <td>1248.29</td>\n",
              "      <td>6.079</td>\n",
              "      <td>22.220</td>\n",
              "      <td>17.29</td>\n",
              "      <td>69.93</td>\n",
              "      <td>0.328341</td>\n",
              "      <td>0.0389</td>\n",
              "      <td>0.0537</td>\n",
              "      <td>0.0632</td>\n",
              "      <td>0.0461</td>\n",
              "      <td>-0.014957</td>\n",
              "      <td>0.003736</td>\n",
              "      <td>0.009597</td>\n",
              "      <td>-0.010060</td>\n",
              "      <td>0.014227</td>\n",
              "      <td>0.011557</td>\n",
              "      <td>0.002791</td>\n",
              "      <td>NaN</td>\n",
              "      <td>0.035011</td>\n",
              "      <td>0.022099</td>\n",
              "      <td>0.017180</td>\n",
              "    </tr>\n",
              "    <tr>\n",
              "      <th>540</th>\n",
              "      <td>NaN</td>\n",
              "      <td>NaN</td>\n",
              "      <td>NaN</td>\n",
              "      <td>NaN</td>\n",
              "      <td>NaN</td>\n",
              "      <td>NaN</td>\n",
              "      <td>NaN</td>\n",
              "      <td>NaN</td>\n",
              "      <td>NaN</td>\n",
              "      <td>NaN</td>\n",
              "      <td>NaN</td>\n",
              "      <td>NaN</td>\n",
              "      <td>NaN</td>\n",
              "      <td>NaN</td>\n",
              "      <td>NaN</td>\n",
              "      <td>NaN</td>\n",
              "      <td>NaN</td>\n",
              "      <td>NaN</td>\n",
              "      <td>NaN</td>\n",
              "      <td>NaN</td>\n",
              "      <td>NaN</td>\n",
              "      <td>NaN</td>\n",
              "    </tr>\n",
              "    <tr>\n",
              "      <th>541</th>\n",
              "      <td>NaN</td>\n",
              "      <td>NaN</td>\n",
              "      <td>NaN</td>\n",
              "      <td>NaN</td>\n",
              "      <td>NaN</td>\n",
              "      <td>NaN</td>\n",
              "      <td>NaN</td>\n",
              "      <td>NaN</td>\n",
              "      <td>NaN</td>\n",
              "      <td>NaN</td>\n",
              "      <td>NaN</td>\n",
              "      <td>NaN</td>\n",
              "      <td>NaN</td>\n",
              "      <td>NaN</td>\n",
              "      <td>NaN</td>\n",
              "      <td>NaN</td>\n",
              "      <td>NaN</td>\n",
              "      <td>NaN</td>\n",
              "      <td>NaN</td>\n",
              "      <td>NaN</td>\n",
              "      <td>NaN</td>\n",
              "      <td>NaN</td>\n",
              "    </tr>\n",
              "  </tbody>\n",
              "</table>\n",
              "</div>"
            ],
            "text/plain": [
              "       yyyyq    Index     D3     D12  ...       csp        ik  CRSP_SPvw  CRSP_SPvwx\n",
              "500  19961.0   645.50  3.450  14.100  ...  0.000031  0.037532   0.055388    0.049584\n",
              "501  19962.0   670.63  3.770  14.270  ... -0.000848  0.038134   0.045049    0.039408\n",
              "502  19963.0   687.31  3.890  14.660  ... -0.000539  0.038890   0.031213    0.025321\n",
              "503  19964.0   740.74  3.790  14.900  ... -0.000397  0.039388   0.083464    0.077698\n",
              "504  19971.0   757.12  3.610  15.060  ... -0.001308  0.039817   0.026425    0.021620\n",
              "505  19972.0   885.14  3.870  15.160  ... -0.000662  0.040209   0.175033    0.169812\n",
              "506  19973.0   947.28  4.060  15.330  ... -0.000743  0.041632   0.076009    0.071382\n",
              "507  19974.0   970.43  3.950  15.490  ... -0.000889  0.041289   0.029499    0.025245\n",
              "508  19981.0  1101.75  3.760  15.640  ... -0.000740  0.041994   0.140518    0.136398\n",
              "509  19982.0  1133.84  4.180  15.950  ... -0.001169  0.042567   0.034129    0.030238\n",
              "510  19983.0  1017.01  4.260  16.150  ... -0.001634  0.042232  -0.098146   -0.101882\n",
              "511  19984.0  1229.23  4.000  16.200  ... -0.001034  0.042801   0.215775    0.211561\n",
              "512  19991.0  1286.37  4.010  16.450  ... -0.001075  0.042809   0.048907    0.045486\n",
              "513  19992.0  1372.71  4.180  16.450  ... -0.001145  0.043342   0.068664    0.065079\n",
              "514  19993.0  1282.71  4.450  16.640  ... -0.000986  0.043584  -0.062164   -0.065414\n",
              "515  19994.0  1469.25  4.050  16.690  ...  0.000064  0.042895   0.154340    0.150919\n",
              "516  20001.0  1498.58  4.080  16.760  ...  0.000185  0.043575   0.025744    0.022712\n",
              "517  20002.0  1454.60  4.120  16.700  ... -0.000247  0.044278  -0.028488   -0.031143\n",
              "518  20003.0  1436.51  4.090  16.340  ... -0.000508  0.043674  -0.003514   -0.006370\n",
              "519  20004.0  1320.28  3.980  16.270  ... -0.000525  0.042965  -0.076940   -0.079714\n",
              "520  20011.0  1160.33  3.780  15.970  ... -0.001864  0.041752  -0.121322   -0.124090\n",
              "521  20012.0  1224.42  3.840  15.690  ... -0.001592  0.039592   0.058862    0.055644\n",
              "522  20013.0  1040.94  4.140  15.740  ... -0.001823  0.038339  -0.146713   -0.149865\n",
              "523  20014.0  1148.08  3.980  15.740  ... -0.001336  0.036503   0.109844    0.105897\n",
              "524  20021.0  1147.39  3.770  15.730  ... -0.002239  0.034874   0.002818   -0.000599\n",
              "525  20022.0   989.81  4.150  16.040  ... -0.002607  0.033998  -0.134753   -0.138092\n",
              "526  20023.0   815.29  3.901  15.801  ... -0.003213  0.033528  -0.169159   -0.172859\n",
              "527  20024.0   879.82  4.256  16.077  ... -0.004144  0.032822   0.085041    0.079853\n",
              "528  20031.0   848.18  3.922  16.229  ...       NaN  0.032354  -0.031522   -0.036022\n",
              "529  20032.0   974.51  4.086  16.165  ...       NaN  0.032943   0.155112    0.150161\n",
              "530  20033.0   995.97  4.322  16.586  ...       NaN  0.033422   0.026746    0.022276\n",
              "531  20034.0  1111.92  5.055  17.385  ...       NaN  0.033376   0.120606    0.115323\n",
              "532  20041.0  1126.21  4.560  18.023  ...       NaN  0.033241   0.018268    0.014124\n",
              "533  20042.0  1140.84  4.664  18.601  ...       NaN  0.033547   0.017345    0.013111\n",
              "534  20043.0  1114.58  4.882  19.163  ...       NaN  0.034090  -0.018741   -0.023167\n",
              "535  20044.0  1211.92  5.334  19.440  ...       NaN  0.034467   0.091803    0.083486\n",
              "536  20051.0  1180.59  5.345  20.226  ...       NaN  0.034646  -0.020251   -0.024754\n",
              "537  20052.0  1191.33  5.364  20.926  ...       NaN  0.034748   0.013922    0.009300\n",
              "538  20053.0  1228.81  5.432  21.475  ...       NaN  0.034910   0.036079    0.031457\n",
              "539  20054.0  1248.29  6.079  22.220  ...       NaN  0.035011   0.022099    0.017180\n",
              "540      NaN      NaN    NaN     NaN  ...       NaN       NaN        NaN         NaN\n",
              "541      NaN      NaN    NaN     NaN  ...       NaN       NaN        NaN         NaN\n",
              "\n",
              "[42 rows x 22 columns]"
            ]
          },
          "metadata": {
            "tags": []
          },
          "execution_count": 115
        }
      ]
    },
    {
      "cell_type": "code",
      "metadata": {
        "id": "cuLChsojTcpY",
        "outputId": "0f4f72d8-e306-4f68-8e58-0c55036984cc",
        "colab": {
          "base_uri": "https://localhost:8080/",
          "height": 408
        }
      },
      "source": [
        "predictor_data.isna().sum()"
      ],
      "execution_count": 116,
      "outputs": [
        {
          "output_type": "execute_result",
          "data": {
            "text/plain": [
              "yyyyq           2\n",
              "Index           2\n",
              "D3            470\n",
              "D12             2\n",
              "E3            258\n",
              "E12             2\n",
              "b/m           202\n",
              "tbl           198\n",
              "AAA           194\n",
              "BAA           194\n",
              "lty           194\n",
              "cay           325\n",
              "ntis          225\n",
              "Rfree           2\n",
              "infl          171\n",
              "ltr           222\n",
              "corpr         222\n",
              "svar           58\n",
              "csp           279\n",
              "ik            306\n",
              "CRSP_SPvw     222\n",
              "CRSP_SPvwx    222\n",
              "dtype: int64"
            ]
          },
          "metadata": {
            "tags": []
          },
          "execution_count": 116
        }
      ]
    },
    {
      "cell_type": "code",
      "metadata": {
        "id": "IlLp0EuaTkyZ"
      },
      "source": [
        "data = predictor_data[['yyyyq', 'Index']].copy()\n",
        "data['dpr'] = -predictor_data.apply(lambda s: math.log(s.D12) - math.log(s.Index), axis = 1)\n",
        "data['earning_price_ratio'] = -predictor_data.apply(lambda s: math.log(s.E12) - math.log(s.Index), axis = 1)\n",
        "data['devident_payout_ratio'] = -predictor_data.apply(lambda s: math.log(s.E12) - math.log(s.Index), axis = 1)\n",
        "\n",
        "data['svar'] = predictor_data.svar\n",
        "data['b2m'] = predictor_data['b/m']\n",
        "data['ntis'] = predictor_data.ntis\n",
        "data['tbl'] = predictor_data.tbl\n",
        "data['lty'] = predictor_data.lty\n",
        "data['ltr'] = predictor_data.ltr\n",
        "data['tms'] = predictor_data.lty - predictor_data.tbl\n",
        "data['dft'] = predictor_data.BAA - predictor_data.AAA\n",
        "data['drs'] = predictor_data.corpr - predictor_data.ltr\n",
        "data['infl'] = predictor_data.infl\n",
        "data['ik'] = predictor_data.ik\n",
        "\n",
        "data['stock_premium'] = predictor_data.E3 / predictor_data.Index - predictor_data.Rfree "
      ],
      "execution_count": 117,
      "outputs": []
    },
    {
      "cell_type": "code",
      "metadata": {
        "id": "NHfsBW_aD_8I",
        "outputId": "b18f586d-e46b-4dcb-f052-a54027dd543b",
        "colab": {
          "base_uri": "https://localhost:8080/",
          "height": 111
        }
      },
      "source": [
        "data = data.dropna().reset_index(drop = True)\n",
        "data.head(2)"
      ],
      "execution_count": 118,
      "outputs": [
        {
          "output_type": "execute_result",
          "data": {
            "text/html": [
              "<div>\n",
              "<style scoped>\n",
              "    .dataframe tbody tr th:only-of-type {\n",
              "        vertical-align: middle;\n",
              "    }\n",
              "\n",
              "    .dataframe tbody tr th {\n",
              "        vertical-align: top;\n",
              "    }\n",
              "\n",
              "    .dataframe thead th {\n",
              "        text-align: right;\n",
              "    }\n",
              "</style>\n",
              "<table border=\"1\" class=\"dataframe\">\n",
              "  <thead>\n",
              "    <tr style=\"text-align: right;\">\n",
              "      <th></th>\n",
              "      <th>yyyyq</th>\n",
              "      <th>Index</th>\n",
              "      <th>dpr</th>\n",
              "      <th>earning_price_ratio</th>\n",
              "      <th>devident_payout_ratio</th>\n",
              "      <th>svar</th>\n",
              "      <th>b2m</th>\n",
              "      <th>ntis</th>\n",
              "      <th>tbl</th>\n",
              "      <th>lty</th>\n",
              "      <th>ltr</th>\n",
              "      <th>tms</th>\n",
              "      <th>dft</th>\n",
              "      <th>drs</th>\n",
              "      <th>infl</th>\n",
              "      <th>ik</th>\n",
              "      <th>stock_premium</th>\n",
              "    </tr>\n",
              "  </thead>\n",
              "  <tbody>\n",
              "    <tr>\n",
              "      <th>0</th>\n",
              "      <td>19471.0</td>\n",
              "      <td>15.17</td>\n",
              "      <td>3.047824</td>\n",
              "      <td>2.480303</td>\n",
              "      <td>2.480303</td>\n",
              "      <td>0.005718</td>\n",
              "      <td>0.741535</td>\n",
              "      <td>0.050864</td>\n",
              "      <td>0.0038</td>\n",
              "      <td>0.0213</td>\n",
              "      <td>0.003502</td>\n",
              "      <td>0.0175</td>\n",
              "      <td>0.0060</td>\n",
              "      <td>0.004205</td>\n",
              "      <td>0.019952</td>\n",
              "      <td>0.036043</td>\n",
              "      <td>0.025418</td>\n",
              "    </tr>\n",
              "    <tr>\n",
              "      <th>1</th>\n",
              "      <td>19472.0</td>\n",
              "      <td>15.21</td>\n",
              "      <td>2.996390</td>\n",
              "      <td>2.357310</td>\n",
              "      <td>2.357310</td>\n",
              "      <td>0.006663</td>\n",
              "      <td>0.741117</td>\n",
              "      <td>0.046888</td>\n",
              "      <td>0.0038</td>\n",
              "      <td>0.0216</td>\n",
              "      <td>0.000587</td>\n",
              "      <td>0.0178</td>\n",
              "      <td>0.0066</td>\n",
              "      <td>0.003818</td>\n",
              "      <td>0.004533</td>\n",
              "      <td>0.035089</td>\n",
              "      <td>0.024034</td>\n",
              "    </tr>\n",
              "  </tbody>\n",
              "</table>\n",
              "</div>"
            ],
            "text/plain": [
              "     yyyyq  Index       dpr  ...      infl        ik  stock_premium\n",
              "0  19471.0  15.17  3.047824  ...  0.019952  0.036043       0.025418\n",
              "1  19472.0  15.21  2.996390  ...  0.004533  0.035089       0.024034\n",
              "\n",
              "[2 rows x 17 columns]"
            ]
          },
          "metadata": {
            "tags": []
          },
          "execution_count": 118
        }
      ]
    },
    {
      "cell_type": "code",
      "metadata": {
        "id": "9pCnvPbMEAES"
      },
      "source": [
        "# predictor_data.head(2)"
      ],
      "execution_count": 119,
      "outputs": []
    },
    {
      "cell_type": "code",
      "metadata": {
        "id": "hMLRjFbKsH18"
      },
      "source": [
        "data.to_csv('cleaned_data.csv', index = False)"
      ],
      "execution_count": 120,
      "outputs": []
    },
    {
      "cell_type": "code",
      "metadata": {
        "id": "OJlCdsP6aUUN"
      },
      "source": [
        "signal_cols = ['dpr', 'svar', 'b2m', 'ntis', 'tbl', 'lty', 'ltr', 'tms', 'dft', 'drs', 'infl', 'ik']\n",
        "for s in signal_cols:\n",
        "    if s not in data.columns:\n",
        "        print(s)"
      ],
      "execution_count": 121,
      "outputs": []
    },
    {
      "cell_type": "code",
      "metadata": {
        "id": "m2qMzEsJaUR7"
      },
      "source": [
        ""
      ],
      "execution_count": 121,
      "outputs": []
    },
    {
      "cell_type": "markdown",
      "metadata": {
        "id": "n5rzmLhCsICC"
      },
      "source": [
        "# 2.EDA"
      ]
    },
    {
      "cell_type": "code",
      "metadata": {
        "id": "55sUVEcV0-Vc",
        "outputId": "e09197e7-1bd5-4b38-af48-d7f8c68e828d",
        "colab": {
          "base_uri": "https://localhost:8080/",
          "height": 297
        }
      },
      "source": [
        "# Stock premium distribution\n",
        "stk_pr = data.stock_premium\n",
        "sns.distplot(stk_pr)"
      ],
      "execution_count": 25,
      "outputs": [
        {
          "output_type": "execute_result",
          "data": {
            "text/plain": [
              "<matplotlib.axes._subplots.AxesSubplot at 0x7f60fd22c630>"
            ]
          },
          "metadata": {
            "tags": []
          },
          "execution_count": 25
        },
        {
          "output_type": "display_data",
          "data": {
            "image/png": "[encoded data removed]",
            "text/plain": [
              "<Figure size 432x288 with 1 Axes>"
            ]
          },
          "metadata": {
            "tags": [],
            "needs_background": "light"
          }
        }
      ]
    },
    {
      "cell_type": "markdown",
      "metadata": {
        "id": "JvmSwZs3sRkS"
      },
      "source": [
        "## 2.1. Default return spread (DFR)"
      ]
    },
    {
      "cell_type": "markdown",
      "metadata": {
        "id": "vIZhJ7lGDtRD"
      },
      "source": [
        "### 2.2.1. Visualization"
      ]
    },
    {
      "cell_type": "code",
      "metadata": {
        "id": "EU3zvRZwEAPe",
        "outputId": "e38f6a5c-6152-4380-99bc-2f40bf16dc45",
        "colab": {
          "base_uri": "https://localhost:8080/",
          "height": 296
        }
      },
      "source": [
        "sns.distplot(data.dfr)"
      ],
      "execution_count": null,
      "outputs": [
        {
          "output_type": "execute_result",
          "data": {
            "text/plain": [
              "<matplotlib.axes._subplots.AxesSubplot at 0x7f698ec22cc0>"
            ]
          },
          "metadata": {
            "tags": []
          },
          "execution_count": 8
        },
        {
          "output_type": "display_data",
          "data": {
            "image/png": "[encoded data removed]",
            "text/plain": [
              "<Figure size 432x288 with 1 Axes>"
            ]
          },
          "metadata": {
            "tags": [],
            "needs_background": "light"
          }
        }
      ]
    },
    {
      "cell_type": "code",
      "metadata": {
        "id": "POcqMXWby_B4",
        "outputId": "f56793c5-1537-4172-9fde-b86bfa0ec747",
        "colab": {
          "base_uri": "https://localhost:8080/",
          "height": 296
        }
      },
      "source": [
        "sns.boxplot(x=\"dfr\", data=data)"
      ],
      "execution_count": null,
      "outputs": [
        {
          "output_type": "execute_result",
          "data": {
            "text/plain": [
              "<matplotlib.axes._subplots.AxesSubplot at 0x7f698e70d2e8>"
            ]
          },
          "metadata": {
            "tags": []
          },
          "execution_count": 9
        },
        {
          "output_type": "display_data",
          "data": {
            "image/png": "[encoded data removed]",
            "text/plain": [
              "<Figure size 432x288 with 1 Axes>"
            ]
          },
          "metadata": {
            "tags": [],
            "needs_background": "light"
          }
        }
      ]
    },
    {
      "cell_type": "code",
      "metadata": {
        "id": "KXt3ScACCOT3",
        "outputId": "59de2231-26ab-40b4-cc8d-46d0d04dfd68",
        "colab": {
          "base_uri": "https://localhost:8080/",
          "height": 111
        }
      },
      "source": [
        "data[['stock_premium', 'dfr']].head(2)"
      ],
      "execution_count": null,
      "outputs": [
        {
          "output_type": "execute_result",
          "data": {
            "text/html": [
              "<div>\n",
              "<style scoped>\n",
              "    .dataframe tbody tr th:only-of-type {\n",
              "        vertical-align: middle;\n",
              "    }\n",
              "\n",
              "    .dataframe tbody tr th {\n",
              "        vertical-align: top;\n",
              "    }\n",
              "\n",
              "    .dataframe thead th {\n",
              "        text-align: right;\n",
              "    }\n",
              "</style>\n",
              "<table border=\"1\" class=\"dataframe\">\n",
              "  <thead>\n",
              "    <tr style=\"text-align: right;\">\n",
              "      <th></th>\n",
              "      <th>stock_premium</th>\n",
              "      <th>dfr</th>\n",
              "    </tr>\n",
              "  </thead>\n",
              "  <tbody>\n",
              "    <tr>\n",
              "      <th>0</th>\n",
              "      <td>0.025418</td>\n",
              "      <td>0.004205</td>\n",
              "    </tr>\n",
              "    <tr>\n",
              "      <th>1</th>\n",
              "      <td>0.024034</td>\n",
              "      <td>0.003818</td>\n",
              "    </tr>\n",
              "  </tbody>\n",
              "</table>\n",
              "</div>"
            ],
            "text/plain": [
              "   stock_premium       dfr\n",
              "0       0.025418  0.004205\n",
              "1       0.024034  0.003818"
            ]
          },
          "metadata": {
            "tags": []
          },
          "execution_count": 10
        }
      ]
    },
    {
      "cell_type": "code",
      "metadata": {
        "id": "mRRQQCoVCOW_",
        "outputId": "d11b62e4-0433-4768-98af-5a6b35f4ffdd",
        "colab": {
          "base_uri": "https://localhost:8080/",
          "height": 111
        }
      },
      "source": [
        "tmp1 = data[['stock_premium', 'yyyyq']].copy().rename(columns = {'stock_premium': 'data'})\n",
        "tmp1['source'] = 'stock_premium'\n",
        "tmp2 = data[['dfr', 'yyyyq']].copy().rename(columns = {'dfr': 'data'})\n",
        "tmp2['source'] = 'dfr'\n",
        "\n",
        "tmp = pd.concat([tmp1, tmp2])\n",
        "tmp.head(2)"
      ],
      "execution_count": null,
      "outputs": [
        {
          "output_type": "execute_result",
          "data": {
            "text/html": [
              "<div>\n",
              "<style scoped>\n",
              "    .dataframe tbody tr th:only-of-type {\n",
              "        vertical-align: middle;\n",
              "    }\n",
              "\n",
              "    .dataframe tbody tr th {\n",
              "        vertical-align: top;\n",
              "    }\n",
              "\n",
              "    .dataframe thead th {\n",
              "        text-align: right;\n",
              "    }\n",
              "</style>\n",
              "<table border=\"1\" class=\"dataframe\">\n",
              "  <thead>\n",
              "    <tr style=\"text-align: right;\">\n",
              "      <th></th>\n",
              "      <th>data</th>\n",
              "      <th>yyyyq</th>\n",
              "      <th>source</th>\n",
              "    </tr>\n",
              "  </thead>\n",
              "  <tbody>\n",
              "    <tr>\n",
              "      <th>0</th>\n",
              "      <td>0.025418</td>\n",
              "      <td>19471.0</td>\n",
              "      <td>stock_premium</td>\n",
              "    </tr>\n",
              "    <tr>\n",
              "      <th>1</th>\n",
              "      <td>0.024034</td>\n",
              "      <td>19472.0</td>\n",
              "      <td>stock_premium</td>\n",
              "    </tr>\n",
              "  </tbody>\n",
              "</table>\n",
              "</div>"
            ],
            "text/plain": [
              "       data    yyyyq         source\n",
              "0  0.025418  19471.0  stock_premium\n",
              "1  0.024034  19472.0  stock_premium"
            ]
          },
          "metadata": {
            "tags": []
          },
          "execution_count": 11
        }
      ]
    },
    {
      "cell_type": "code",
      "metadata": {
        "id": "-yhxB5Bpy_Jf",
        "outputId": "a7ff1e5c-0484-4ec9-e1e4-6098316553c7",
        "colab": {
          "base_uri": "https://localhost:8080/",
          "height": 279
        }
      },
      "source": [
        "ax = sns.lineplot(x='yyyyq', y=\"data\", hue=\"source\", data=tmp)"
      ],
      "execution_count": null,
      "outputs": [
        {
          "output_type": "display_data",
          "data": {
            "image/png": "[encoded data removed]",
            "text/plain": [
              "<Figure size 432x288 with 1 Axes>"
            ]
          },
          "metadata": {
            "tags": [],
            "needs_background": "light"
          }
        }
      ]
    },
    {
      "cell_type": "code",
      "metadata": {
        "id": "JehK2lFXy_IL"
      },
      "source": [
        ""
      ],
      "execution_count": null,
      "outputs": []
    },
    {
      "cell_type": "markdown",
      "metadata": {
        "id": "lx4LN6V7D6Ab"
      },
      "source": [
        "### 2.1.2. Correlations"
      ]
    },
    {
      "cell_type": "code",
      "metadata": {
        "id": "cMYx7UT7D5n9",
        "outputId": "e42b8cda-9b61-4d63-b557-9c1859b3a639",
        "colab": {
          "base_uri": "https://localhost:8080/",
          "height": 34
        }
      },
      "source": [
        "scipy.stats.pearsonr(data.dfr, data.stock_premium)"
      ],
      "execution_count": null,
      "outputs": [
        {
          "output_type": "execute_result",
          "data": {
            "text/plain": [
              "(0.03582392493820161, 0.5839725388338495)"
            ]
          },
          "metadata": {
            "tags": []
          },
          "execution_count": 13
        }
      ]
    },
    {
      "cell_type": "code",
      "metadata": {
        "id": "nDgpHdZmEAMI"
      },
      "source": [
        ""
      ],
      "execution_count": null,
      "outputs": []
    },
    {
      "cell_type": "markdown",
      "metadata": {
        "id": "NwAjp-oZsT61"
      },
      "source": [
        "## 2.2. Inflation (infl)"
      ]
    },
    {
      "cell_type": "code",
      "metadata": {
        "id": "8rgmYRkMEAAe",
        "outputId": "fd0c292f-23ae-4fe7-e0a4-7a258ea861b5",
        "colab": {
          "base_uri": "https://localhost:8080/",
          "height": 296
        }
      },
      "source": [
        "sns.distplot(data.infl)"
      ],
      "execution_count": null,
      "outputs": [
        {
          "output_type": "execute_result",
          "data": {
            "text/plain": [
              "<matplotlib.axes._subplots.AxesSubplot at 0x7f698ec225f8>"
            ]
          },
          "metadata": {
            "tags": []
          },
          "execution_count": 14
        },
        {
          "output_type": "display_data",
          "data": {
            "image/png": "[encoded data removed]",
            "text/plain": [
              "<Figure size 432x288 with 1 Axes>"
            ]
          },
          "metadata": {
            "tags": [],
            "needs_background": "light"
          }
        }
      ]
    },
    {
      "cell_type": "code",
      "metadata": {
        "id": "umVl-zQDsXnZ",
        "outputId": "84d4c946-bae7-47e1-a8e5-b6817418bc39",
        "colab": {
          "base_uri": "https://localhost:8080/",
          "height": 296
        }
      },
      "source": [
        "sns.boxplot(x=\"infl\", data=data)"
      ],
      "execution_count": null,
      "outputs": [
        {
          "output_type": "execute_result",
          "data": {
            "text/plain": [
              "<matplotlib.axes._subplots.AxesSubplot at 0x7f698e4e3ef0>"
            ]
          },
          "metadata": {
            "tags": []
          },
          "execution_count": 15
        },
        {
          "output_type": "display_data",
          "data": {
            "image/png": "[encoded data removed]",
            "text/plain": [
              "<Figure size 432x288 with 1 Axes>"
            ]
          },
          "metadata": {
            "tags": [],
            "needs_background": "light"
          }
        }
      ]
    },
    {
      "cell_type": "code",
      "metadata": {
        "id": "HWjfBTnpsXjy",
        "outputId": "874dbd4c-e4f8-40ab-cea2-0549b3d085e0",
        "colab": {
          "base_uri": "https://localhost:8080/",
          "height": 111
        }
      },
      "source": [
        "tmp1 = data[['stock_premium', 'yyyyq']].copy().rename(columns = {'stock_premium': 'data'})\n",
        "tmp1['source'] = 'stock_premium'\n",
        "tmp2 = data[['infl', 'yyyyq']].copy().rename(columns = {'infl': 'data'})\n",
        "tmp2['source'] = 'infl'\n",
        "\n",
        "tmp = pd.concat([tmp1, tmp2])\n",
        "tmp.head(2)"
      ],
      "execution_count": null,
      "outputs": [
        {
          "output_type": "execute_result",
          "data": {
            "text/html": [
              "<div>\n",
              "<style scoped>\n",
              "    .dataframe tbody tr th:only-of-type {\n",
              "        vertical-align: middle;\n",
              "    }\n",
              "\n",
              "    .dataframe tbody tr th {\n",
              "        vertical-align: top;\n",
              "    }\n",
              "\n",
              "    .dataframe thead th {\n",
              "        text-align: right;\n",
              "    }\n",
              "</style>\n",
              "<table border=\"1\" class=\"dataframe\">\n",
              "  <thead>\n",
              "    <tr style=\"text-align: right;\">\n",
              "      <th></th>\n",
              "      <th>data</th>\n",
              "      <th>yyyyq</th>\n",
              "      <th>source</th>\n",
              "    </tr>\n",
              "  </thead>\n",
              "  <tbody>\n",
              "    <tr>\n",
              "      <th>0</th>\n",
              "      <td>0.025418</td>\n",
              "      <td>19471.0</td>\n",
              "      <td>stock_premium</td>\n",
              "    </tr>\n",
              "    <tr>\n",
              "      <th>1</th>\n",
              "      <td>0.024034</td>\n",
              "      <td>19472.0</td>\n",
              "      <td>stock_premium</td>\n",
              "    </tr>\n",
              "  </tbody>\n",
              "</table>\n",
              "</div>"
            ],
            "text/plain": [
              "       data    yyyyq         source\n",
              "0  0.025418  19471.0  stock_premium\n",
              "1  0.024034  19472.0  stock_premium"
            ]
          },
          "metadata": {
            "tags": []
          },
          "execution_count": 16
        }
      ]
    },
    {
      "cell_type": "code",
      "metadata": {
        "id": "yfl9FreQG5RV",
        "outputId": "cd62525d-8991-4264-ec08-6fb38c7962c3",
        "colab": {
          "base_uri": "https://localhost:8080/",
          "height": 279
        }
      },
      "source": [
        "ax = sns.lineplot(x='yyyyq', y=\"data\", hue=\"source\", data=tmp)"
      ],
      "execution_count": null,
      "outputs": [
        {
          "output_type": "display_data",
          "data": {
            "image/png": "[encoded data removed]",
            "text/plain": [
              "<Figure size 432x288 with 1 Axes>"
            ]
          },
          "metadata": {
            "tags": [],
            "needs_background": "light"
          }
        }
      ]
    },
    {
      "cell_type": "code",
      "metadata": {
        "id": "YpcM9LgLG5Zx",
        "outputId": "c458ba28-b27d-4a8f-da42-3dbdab26d31d",
        "colab": {
          "base_uri": "https://localhost:8080/",
          "height": 34
        }
      },
      "source": [
        "scipy.stats.pearsonr(data.infl, data.stock_premium)"
      ],
      "execution_count": null,
      "outputs": [
        {
          "output_type": "execute_result",
          "data": {
            "text/plain": [
              "(-0.06564784971164228, 0.3152675673140047)"
            ]
          },
          "metadata": {
            "tags": []
          },
          "execution_count": 18
        }
      ]
    },
    {
      "cell_type": "code",
      "metadata": {
        "id": "l-9ZbB5cG5Iv"
      },
      "source": [
        ""
      ],
      "execution_count": null,
      "outputs": []
    },
    {
      "cell_type": "markdown",
      "metadata": {
        "id": "vsHBlYITsYB5"
      },
      "source": [
        "## 2.3. Investment-to-capital ratio (I/K)"
      ]
    },
    {
      "cell_type": "code",
      "metadata": {
        "id": "aZItLIyfD_5y",
        "outputId": "2f36ba31-22e6-4ec3-dfe6-640fff179965",
        "colab": {
          "base_uri": "https://localhost:8080/",
          "height": 297
        }
      },
      "source": [
        "sns.distplot(data.investment_capital_ratio)"
      ],
      "execution_count": null,
      "outputs": [
        {
          "output_type": "execute_result",
          "data": {
            "text/plain": [
              "<matplotlib.axes._subplots.AxesSubplot at 0x7f698e423dd8>"
            ]
          },
          "metadata": {
            "tags": []
          },
          "execution_count": 19
        },
        {
          "output_type": "display_data",
          "data": {
            "image/png": "[encoded data removed]",
            "text/plain": [
              "<Figure size 432x288 with 1 Axes>"
            ]
          },
          "metadata": {
            "tags": [],
            "needs_background": "light"
          }
        }
      ]
    },
    {
      "cell_type": "code",
      "metadata": {
        "id": "lWxNHqoiHGGm",
        "outputId": "0dfc5c0d-e842-40d1-d6df-560c6038e77c",
        "colab": {
          "base_uri": "https://localhost:8080/",
          "height": 297
        }
      },
      "source": [
        "sns.boxplot(x=\"investment_capital_ratio\", data=data)"
      ],
      "execution_count": null,
      "outputs": [
        {
          "output_type": "execute_result",
          "data": {
            "text/plain": [
              "<matplotlib.axes._subplots.AxesSubplot at 0x7f698e417978>"
            ]
          },
          "metadata": {
            "tags": []
          },
          "execution_count": 20
        },
        {
          "output_type": "display_data",
          "data": {
            "image/png": "[encoded data removed]",
            "text/plain": [
              "<Figure size 432x288 with 1 Axes>"
            ]
          },
          "metadata": {
            "tags": [],
            "needs_background": "light"
          }
        }
      ]
    },
    {
      "cell_type": "code",
      "metadata": {
        "id": "px8XmNbQHGMd",
        "outputId": "6dd6d65f-f52b-4f44-cc00-0d7bfec14fff",
        "colab": {
          "base_uri": "https://localhost:8080/",
          "height": 111
        }
      },
      "source": [
        "tmp1 = data[['stock_premium', 'yyyyq']].copy().rename(columns = {'stock_premium': 'data'})\n",
        "tmp1['source'] = 'stock_premium'\n",
        "tmp2 = data[['investment_capital_ratio', 'yyyyq']].copy().rename(columns = {'investment_capital_ratio': 'data'})\n",
        "tmp2['source'] = 'investment_capital_ratio'\n",
        "\n",
        "tmp = pd.concat([tmp1, tmp2])\n",
        "tmp.head(2)"
      ],
      "execution_count": null,
      "outputs": [
        {
          "output_type": "execute_result",
          "data": {
            "text/html": [
              "<div>\n",
              "<style scoped>\n",
              "    .dataframe tbody tr th:only-of-type {\n",
              "        vertical-align: middle;\n",
              "    }\n",
              "\n",
              "    .dataframe tbody tr th {\n",
              "        vertical-align: top;\n",
              "    }\n",
              "\n",
              "    .dataframe thead th {\n",
              "        text-align: right;\n",
              "    }\n",
              "</style>\n",
              "<table border=\"1\" class=\"dataframe\">\n",
              "  <thead>\n",
              "    <tr style=\"text-align: right;\">\n",
              "      <th></th>\n",
              "      <th>data</th>\n",
              "      <th>yyyyq</th>\n",
              "      <th>source</th>\n",
              "    </tr>\n",
              "  </thead>\n",
              "  <tbody>\n",
              "    <tr>\n",
              "      <th>0</th>\n",
              "      <td>0.025418</td>\n",
              "      <td>19471.0</td>\n",
              "      <td>stock_premium</td>\n",
              "    </tr>\n",
              "    <tr>\n",
              "      <th>1</th>\n",
              "      <td>0.024034</td>\n",
              "      <td>19472.0</td>\n",
              "      <td>stock_premium</td>\n",
              "    </tr>\n",
              "  </tbody>\n",
              "</table>\n",
              "</div>"
            ],
            "text/plain": [
              "       data    yyyyq         source\n",
              "0  0.025418  19471.0  stock_premium\n",
              "1  0.024034  19472.0  stock_premium"
            ]
          },
          "metadata": {
            "tags": []
          },
          "execution_count": 21
        }
      ]
    },
    {
      "cell_type": "code",
      "metadata": {
        "id": "b7OEX0AWHGY9",
        "outputId": "f64fe6e0-14af-4e53-8ccb-93634a72795b",
        "colab": {
          "base_uri": "https://localhost:8080/",
          "height": 279
        }
      },
      "source": [
        "ax = sns.lineplot(x='yyyyq', y=\"data\", hue=\"source\", data=tmp)"
      ],
      "execution_count": null,
      "outputs": [
        {
          "output_type": "display_data",
          "data": {
            "image/png": "[encoded data removed]",
            "text/plain": [
              "<Figure size 432x288 with 1 Axes>"
            ]
          },
          "metadata": {
            "tags": [],
            "needs_background": "light"
          }
        }
      ]
    },
    {
      "cell_type": "code",
      "metadata": {
        "id": "naAVFiR4HGce",
        "outputId": "eca66c77-9de0-4d00-f975-c483ebd20d6f",
        "colab": {
          "base_uri": "https://localhost:8080/",
          "height": 34
        }
      },
      "source": [
        "scipy.stats.pearsonr(data.investment_capital_ratio, data.stock_premium)"
      ],
      "execution_count": null,
      "outputs": [
        {
          "output_type": "execute_result",
          "data": {
            "text/plain": [
              "(-0.4153248371942793, 2.9460375283595064e-11)"
            ]
          },
          "metadata": {
            "tags": []
          },
          "execution_count": 23
        }
      ]
    },
    {
      "cell_type": "code",
      "metadata": {
        "id": "7EcI6KlTHGTn"
      },
      "source": [
        ""
      ],
      "execution_count": null,
      "outputs": []
    },
    {
      "cell_type": "code",
      "metadata": {
        "id": "W2bl8ENQHGQ6"
      },
      "source": [
        ""
      ],
      "execution_count": null,
      "outputs": []
    },
    {
      "cell_type": "code",
      "metadata": {
        "id": "gcNstT0JHGPW"
      },
      "source": [
        ""
      ],
      "execution_count": null,
      "outputs": []
    },
    {
      "cell_type": "code",
      "metadata": {
        "id": "ulQRsl89HGDj"
      },
      "source": [
        ""
      ],
      "execution_count": null,
      "outputs": []
    },
    {
      "cell_type": "markdown",
      "metadata": {
        "id": "CmdF9e0kdaJc"
      },
      "source": [
        "# 4.Combined Model\n",
        "- Simple model\n",
        "    - Output: num_of_predictor X out_of_sample_length\n",
        "\n",
        "- Weight calculation\n",
        "    - Input: num_of_predictor X out_of_sample_length\n",
        "    - Output: num_of_predictor X out_of_sample_length\n",
        "\n",
        "- Final combination\n",
        "    - Input1: num_of_predictor X out_of_sample_length\n",
        "    - Input2: num_of_predictor X out_of_sample_length"
      ]
    },
    {
      "cell_type": "code",
      "metadata": {
        "id": "0CTwupiOaIEK"
      },
      "source": [
        "from sklearn.linear_model import LinearRegression\n",
        "from sklearn.impute import SimpleImputer\n",
        "\n",
        "# Read in combined model\n",
        "imp_df = pd.read_csv(file_dir + 'cleaned_data.csv')"
      ],
      "execution_count": 123,
      "outputs": []
    },
    {
      "cell_type": "code",
      "metadata": {
        "id": "tFpBXSGhaujE",
        "outputId": "b8fb9de5-4ad0-441c-80c7-bafde3c45259",
        "colab": {
          "base_uri": "https://localhost:8080/",
          "height": 131
        }
      },
      "source": [
        "imp_df.head(2)"
      ],
      "execution_count": 211,
      "outputs": [
        {
          "output_type": "execute_result",
          "data": {
            "text/html": [
              "<div>\n",
              "<style scoped>\n",
              "    .dataframe tbody tr th:only-of-type {\n",
              "        vertical-align: middle;\n",
              "    }\n",
              "\n",
              "    .dataframe tbody tr th {\n",
              "        vertical-align: top;\n",
              "    }\n",
              "\n",
              "    .dataframe thead th {\n",
              "        text-align: right;\n",
              "    }\n",
              "</style>\n",
              "<table border=\"1\" class=\"dataframe\">\n",
              "  <thead>\n",
              "    <tr style=\"text-align: right;\">\n",
              "      <th></th>\n",
              "      <th>yyyyq</th>\n",
              "      <th>Index</th>\n",
              "      <th>dpr</th>\n",
              "      <th>earning_price_ratio</th>\n",
              "      <th>devident_payout_ratio</th>\n",
              "      <th>svar</th>\n",
              "      <th>b2m</th>\n",
              "      <th>ntis</th>\n",
              "      <th>tbl</th>\n",
              "      <th>lty</th>\n",
              "      <th>ltr</th>\n",
              "      <th>tms</th>\n",
              "      <th>dft</th>\n",
              "      <th>drs</th>\n",
              "      <th>infl</th>\n",
              "      <th>ik</th>\n",
              "      <th>stock_premium</th>\n",
              "    </tr>\n",
              "  </thead>\n",
              "  <tbody>\n",
              "    <tr>\n",
              "      <th>0</th>\n",
              "      <td>19471.0</td>\n",
              "      <td>15.17</td>\n",
              "      <td>3.047824</td>\n",
              "      <td>2.480303</td>\n",
              "      <td>2.480303</td>\n",
              "      <td>0.005718</td>\n",
              "      <td>0.741535</td>\n",
              "      <td>0.050864</td>\n",
              "      <td>0.0038</td>\n",
              "      <td>0.0213</td>\n",
              "      <td>0.003502</td>\n",
              "      <td>0.0175</td>\n",
              "      <td>0.0060</td>\n",
              "      <td>0.004205</td>\n",
              "      <td>0.019952</td>\n",
              "      <td>0.036043</td>\n",
              "      <td>0.025418</td>\n",
              "    </tr>\n",
              "    <tr>\n",
              "      <th>1</th>\n",
              "      <td>19472.0</td>\n",
              "      <td>15.21</td>\n",
              "      <td>2.996390</td>\n",
              "      <td>2.357310</td>\n",
              "      <td>2.357310</td>\n",
              "      <td>0.006663</td>\n",
              "      <td>0.741117</td>\n",
              "      <td>0.046888</td>\n",
              "      <td>0.0038</td>\n",
              "      <td>0.0216</td>\n",
              "      <td>0.000587</td>\n",
              "      <td>0.0178</td>\n",
              "      <td>0.0066</td>\n",
              "      <td>0.003818</td>\n",
              "      <td>0.004533</td>\n",
              "      <td>0.035089</td>\n",
              "      <td>0.024034</td>\n",
              "    </tr>\n",
              "  </tbody>\n",
              "</table>\n",
              "</div>"
            ],
            "text/plain": [
              "     yyyyq  Index       dpr  ...      infl        ik  stock_premium\n",
              "0  19471.0  15.17  3.047824  ...  0.019952  0.036043       0.025418\n",
              "1  19472.0  15.21  2.996390  ...  0.004533  0.035089       0.024034\n",
              "\n",
              "[2 rows x 17 columns]"
            ]
          },
          "metadata": {
            "tags": []
          },
          "execution_count": 211
        }
      ]
    },
    {
      "cell_type": "code",
      "metadata": {
        "id": "1guob72Nt0A3"
      },
      "source": [
        "def regression(intercept_, coef_, inputs):\n",
        "    assert inputs.shape[0] == coef_.shape[0]\n",
        "    \n",
        "    out = intercept_  +  coef_ * inputs\n",
        "    return out\n",
        "\n",
        "def weighting(predictions):\n",
        "    return np.mean(predictions)"
      ],
      "execution_count": 124,
      "outputs": []
    },
    {
      "cell_type": "code",
      "metadata": {
        "id": "9_JBWnH5aIJL",
        "outputId": "f9c362f8-1eed-4633-cb4e-aec2f96b6953",
        "colab": {
          "base_uri": "https://localhost:8080/",
          "height": 34
        }
      },
      "source": [
        "signal_cols = ['dpr', 'svar', 'b2m', 'ntis', 'tbl', 'lty', 'ltr', 'tms', 'dft', 'drs', 'infl', 'ik']\n",
        "M = len(imp_df)\n",
        "\n",
        "selected_col = ['dpr']\n",
        "\n",
        "sig_lst = []\n",
        "for sig in signal_cols:\n",
        "    r_lst = []\n",
        "    \n",
        "    m = 71\n",
        "    while m < M:\n",
        "        lg = LinearRegression()\n",
        "\n",
        "        insample_df = imp_df.loc[: m + 1, [sig]]\n",
        "        shifted_insample_df = imp_df.iloc[1 : m + 1, :]\n",
        "\n",
        "        inputs = insample_df.iloc[:m, :].values#.reshape(-1, 1)\n",
        "        target = shifted_insample_df.stock_premium.values#.reshape(-1, 1)\n",
        "\n",
        "        # lg.fit(inputs, target)\n",
        "        slope, intercept, r_value, p_value, std_err = scipy.stats.linregress(inputs[:, 0], target)\n",
        "\n",
        "        x_m = insample_df[sig].values[-1:]\n",
        "        \n",
        "        # r_m1 = lg.intercept_ * x_m + lg.coef_[0]\n",
        "        r_m1 = slope * x_m[0] + intercept \n",
        "        r_lst.append(r_m1)\n",
        "\n",
        "\n",
        "        # insample_df = imp_df.loc[: m + 1, [sig]]#.drop('Index', axis = 1)\n",
        "        # shifted_insample_df = imp_df.iloc[1 :m + 1, :]\n",
        "\n",
        "        # inputs = insample_df.iloc[: m, :].values#.reshape(-1, 1)\n",
        "        # target = shifted_insample_df.stock_premium.values.reshape(-1, 1)\n",
        "\n",
        "        # lg.fit(inputs, target)\n",
        "\n",
        "        # x_m = inputs[[-1], :]\n",
        "        # r_m1 = regression(lg.intercept_, lg.coef_, x_m)\n",
        "\n",
        "        # r_lst.append(r_m1[0][0])\n",
        "\n",
        "\n",
        "        m += 1\n",
        "    sig_lst.append(r_lst)\n",
        "sig_lst = np.array(sig_lst).reshape((12, 165))\n",
        "sig_lst.shape"
      ],
      "execution_count": 188,
      "outputs": [
        {
          "output_type": "execute_result",
          "data": {
            "text/plain": [
              "(12, 165)"
            ]
          },
          "metadata": {
            "tags": []
          },
          "execution_count": 188
        }
      ]
    },
    {
      "cell_type": "code",
      "metadata": {
        "id": "IrUQHBN4aj99",
        "outputId": "341d4e81-85f3-490e-e640-59f31057d68b",
        "colab": {
          "base_uri": "https://localhost:8080/",
          "height": 238
        }
      },
      "source": [
        "sig_lst"
      ],
      "execution_count": 189,
      "outputs": [
        {
          "output_type": "execute_result",
          "data": {
            "text/plain": [
              "array([[ 0.00486699,  0.00629658,  0.0048726 , ..., -0.00145922,\n",
              "        -0.00112022, -0.00104412],\n",
              "       [ 0.01452796,  0.01574861,  0.01425015, ...,  0.00761387,\n",
              "         0.00747198,  0.00745561],\n",
              "       [ 0.00296374,  0.00381786,  0.00156265, ...,  0.00303608,\n",
              "         0.00298267,  0.00299286],\n",
              "       ...,\n",
              "       [ 0.01682557,  0.01700739,  0.01639558, ...,  0.00702459,\n",
              "         0.00700736,  0.0069952 ],\n",
              "       [ 0.01596819,  0.01758649,  0.01563155, ...,  0.00625109,\n",
              "         0.00841209,  0.00842826],\n",
              "       [ 0.02002927,  0.01892932,  0.01724576, ...,  0.00818951,\n",
              "         0.0080576 ,  0.00803992]])"
            ]
          },
          "metadata": {
            "tags": []
          },
          "execution_count": 189
        }
      ]
    },
    {
      "cell_type": "code",
      "metadata": {
        "id": "v1XgzGX6v24j"
      },
      "source": [
        "r_true = data.stock_premium.values\n",
        "r_true = (r_true[71:])"
      ],
      "execution_count": 190,
      "outputs": []
    },
    {
      "cell_type": "code",
      "metadata": {
        "id": "D_wOlPDTv21y"
      },
      "source": [
        ""
      ],
      "execution_count": 190,
      "outputs": []
    },
    {
      "cell_type": "code",
      "metadata": {
        "id": "DmUUDXfCdZy-"
      },
      "source": [
        "n_model = 12\n",
        "# r_true = [] # All the out-of-sample ground truth r; shape: (1 X t)\n",
        "# r_pred_all = [[]] * n_model # All the out-of-sample predicted r; shape: (n_model X t)\n",
        "\n",
        "def combined_r(r_pred_lst, w_lst):\n",
        "    '''\n",
        "        Calculate a weighted average for combined stock premium\n",
        "        r_pred_lst: list of predictions of r, shape: (1 X n_model)\n",
        "        w_lst: list of w, shape: (1 X n_model)\n",
        "    '''\n",
        "    if len(r_pred_lst) != len(w_lst):\n",
        "        print('Error: r_pred_lst and w_lst have different length!')\n",
        "        return None\n",
        "    return sum([w_lst[i] * r_pred_lst(i) for i in range(len(r_pred_lst))])\n",
        "\n",
        "def calc_w_lst(phi_lst):\n",
        "    '''\n",
        "        Calculate the weight for each simple model given phi-list\n",
        "        phi_lst: list of phi, shape: (1 X n_model)\n",
        "    '''\n",
        "    sum_of_invert_phi = sum([1/phi for phi in phi_lst])\n",
        "    return [(1/phi) / sum_of_invert_phi for phi in phi_lst]\n",
        "\n",
        "def calc_phi_lst_at_t(r_true, r_pred_all, theta, t, n_model):\n",
        "    '''\n",
        "        Calculate the time-weighted error for each model, given time and previous predictions\n",
        "        r_true: all the ground truth r; shape: (1 X t)\n",
        "        r_pred_all: all the out-of-sample predicted r; shape: (n_model X t)\n",
        "        theta: theta for this model\n",
        "        t: current time\n",
        "    '''\n",
        "    phi_lst = []\n",
        "    for i in range(n_model):\n",
        "        r_pred = r_pred_all[i]\n",
        "        phi_i = 0\n",
        "        for s in range(-1, t-1):\n",
        "            r_true_s = r_true[s + 1]\n",
        "            r_pred_s = r_pred[s + 1]\n",
        "            phi_i += theta**(t - 1 - s) * (r_true_s - r_pred_s)**2\n",
        "        phi_lst.append(phi_i)\n",
        "    return phi_lst\n",
        "\n",
        "def weight_calculation(r_pred_matrix, theta, r_true):\n",
        "    '''\n",
        "    input:\n",
        "        r_pred_matrix: (n_model X t)\n",
        "        r_true: (t X 1)\n",
        "\n",
        "    output:\n",
        "        weights: (n_model X t-1)\n",
        "    '''\n",
        "    t = 2\n",
        "    weights = []\n",
        "    while t < len(r_true) + 1:\n",
        "        r_pred_t = r_pred_matrix[:, :t]\n",
        "        phi_lst = calc_phi_lst_at_t(r_true, r_pred_t, theta, t, n_model)\n",
        "        w_lst = calc_w_lst(phi_lst)\n",
        "        weights.append(w_lst)\n",
        "        t += 1\n",
        "    return np.array(weights).T\n",
        "\n",
        "def calculate_prediction(all_r_pred, all_weights):\n",
        "    '''\n",
        "    input:\n",
        "        all_r_pred: (n_model X t)\n",
        "        all_weights: (n_model X t-1)\n",
        "\n",
        "    output:\n",
        "        combined_pred: (n_model X t-1)\n",
        "    '''\n",
        "    combined_pred = []\n",
        "    for t in range(all_weights.shape[1]):\n",
        "        combined_pred.append(sum(all_r_pred[:, t + 1] * all_r_pred[:, t]))\n",
        "    return np.array(combined_pred)"
      ],
      "execution_count": 191,
      "outputs": []
    },
    {
      "cell_type": "code",
      "metadata": {
        "id": "1zBkj1nQdZwc",
        "outputId": "bfd9a533-b690-445d-ee25-1732b67114b6",
        "colab": {
          "base_uri": "https://localhost:8080/",
          "height": 34
        }
      },
      "source": [
        "# Example\n",
        "theta = 0.9\n",
        "r_all = sig_lst\n",
        "w_all = weight_calculation(sig_lst, theta, r_true)\n",
        "# w_all = np.array([[1/n_model] * (sig_lst.shape[1] - 1) for _ in range(n_model)])\n",
        "\n",
        "combined_prediction = calculate_prediction(r_all, w_all)\n",
        "combined_prediction.shape"
      ],
      "execution_count": 208,
      "outputs": [
        {
          "output_type": "execute_result",
          "data": {
            "text/plain": [
              "(164,)"
            ]
          },
          "metadata": {
            "tags": []
          },
          "execution_count": 208
        }
      ]
    },
    {
      "cell_type": "code",
      "metadata": {
        "id": "ZICAD0UbWSV0"
      },
      "source": [
        "# w_all = np.array([[1/n_model] * (sig_lst.shape[1] - 1) for _ in range(n_model)])\n",
        "# w_all[0]"
      ],
      "execution_count": 209,
      "outputs": []
    },
    {
      "cell_type": "code",
      "metadata": {
        "id": "oJoVk9elWSLe"
      },
      "source": [
        ""
      ],
      "execution_count": 209,
      "outputs": []
    },
    {
      "cell_type": "code",
      "metadata": {
        "id": "l5Q4Xt4HHIZ3",
        "outputId": "6b3a336e-ff8e-4c9d-9da3-c8ff1cdb9425",
        "colab": {
          "base_uri": "https://localhost:8080/",
          "height": 282
        }
      },
      "source": [
        "plt.plot(r_true[1:])\n",
        "plt.plot(combined_prediction)"
      ],
      "execution_count": 210,
      "outputs": [
        {
          "output_type": "execute_result",
          "data": {
            "text/plain": [
              "[<matplotlib.lines.Line2D at 0x7f60eea3fb38>]"
            ]
          },
          "metadata": {
            "tags": []
          },
          "execution_count": 210
        },
        {
          "output_type": "display_data",
          "data": {
            "image/png": "[encoded data removed]",
            "text/plain": [
              "<Figure size 432x288 with 1 Axes>"
            ]
          },
          "metadata": {
            "tags": [],
            "needs_background": "light"
          }
        }
      ]
    },
    {
      "cell_type": "code",
      "metadata": {
        "id": "5DOUMPQCHIcK",
        "outputId": "d493e8df-6abf-49e6-8936-072591117235",
        "colab": {
          "base_uri": "https://localhost:8080/",
          "height": 34
        }
      },
      "source": [
        "r_true.shape"
      ],
      "execution_count": 108,
      "outputs": [
        {
          "output_type": "execute_result",
          "data": {
            "text/plain": [
              "(165,)"
            ]
          },
          "metadata": {
            "tags": []
          },
          "execution_count": 108
        }
      ]
    },
    {
      "cell_type": "markdown",
      "metadata": {
        "id": "8jgeX-7nEAoz"
      },
      "source": [
        "# END"
      ]
    },
    {
      "cell_type": "code",
      "metadata": {
        "id": "WVl1iKo4EBWN"
      },
      "source": [
        ""
      ],
      "execution_count": null,
      "outputs": []
    }
  ]
}